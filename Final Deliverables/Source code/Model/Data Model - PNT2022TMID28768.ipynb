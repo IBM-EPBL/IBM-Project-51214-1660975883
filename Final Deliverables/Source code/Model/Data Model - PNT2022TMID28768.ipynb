<html xmlns:v="urn:schemas-microsoft-com:vml"
xmlns:o="urn:schemas-microsoft-com:office:office"
xmlns:w="urn:schemas-microsoft-com:office:word"
xmlns:m="http://schemas.microsoft.com/office/2004/12/omml"
xmlns="http://www.w3.org/TR/REC-html40">

<head>
<meta http-equiv=Content-Type content="text/html; charset=us-ascii">
<meta name=ProgId content=Word.Document>
<meta name=Generator content="Microsoft Word 15">
<meta name=Originator content="Microsoft Word 15">
<link rel=File-List
href="Data%20Model%20-%20PNT2022TMID09615_files/filelist.xml">
<!--[if gte mso 9]><xml>
 <o:DocumentProperties>
  <o:Author>chamuluru raj kumar reddy</o:Author>
  <o:Template>Normal</o:Template>
  <o:LastAuthor>chamuluru raj kumar reddy</o:LastAuthor>
  <o:Revision>2</o:Revision>
  <o:TotalTime>1</o:TotalTime>
  <o:Created>2022-11-18T17:02:00Z</o:Created>
  <o:LastSaved>2022-11-18T17:03:00Z</o:LastSaved>
  <o:Pages>1</o:Pages>
  <o:Words>140</o:Words>
  <o:Characters>801</o:Characters>
  <o:Lines>6</o:Lines>
  <o:Paragraphs>1</o:Paragraphs>
  <o:CharactersWithSpaces>940</o:CharactersWithSpaces>
  <o:Version>16.00</o:Version>
 </o:DocumentProperties>
 <o:OfficeDocumentSettings>
  <o:AllowPNG/>
 </o:OfficeDocumentSettings>
</xml><![endif]-->
<link rel=themeData
href="Data%20Model%20-%20PNT2022TMID09615_files/themedata.thmx">
<link rel=colorSchemeMapping
href="Data%20Model%20-%20PNT2022TMID09615_files/colorschememapping.xml">
<!--[if gte mso 9]><xml>
 <w:WordDocument>
  <w:View>Print</w:View>
  <w:GrammarState>Clean</w:GrammarState>
  <w:TrackMoves>false</w:TrackMoves>
  <w:TrackFormatting/>
  <w:ValidateAgainstSchemas/>
  <w:SaveIfXMLInvalid>false</w:SaveIfXMLInvalid>
  <w:IgnoreMixedContent>false</w:IgnoreMixedContent>
  <w:AlwaysShowPlaceholderText>false</w:AlwaysShowPlaceholderText>
  <w:DoNotPromoteQF/>
  <w:LidThemeOther>EN-US</w:LidThemeOther>
  <w:LidThemeAsian>X-NONE</w:LidThemeAsian>
  <w:LidThemeComplexScript>X-NONE</w:LidThemeComplexScript>
  <w:Compatibility>
   <w:BreakWrappedTables/>
   <w:SplitPgBreakAndParaMark/>
  </w:Compatibility>
  <m:mathPr>
   <m:mathFont m:val="Cambria Math"/>
   <m:brkBin m:val="before"/>
   <m:brkBinSub m:val="&#45;-"/>
   <m:smallFrac m:val="off"/>
   <m:dispDef/>
   <m:lMargin m:val="0"/>
   <m:rMargin m:val="0"/>
   <m:defJc m:val="centerGroup"/>
   <m:wrapIndent m:val="1440"/>
   <m:intLim m:val="subSup"/>
   <m:naryLim m:val="undOvr"/>
  </m:mathPr></w:WordDocument>
</xml><![endif]--><!--[if gte mso 9]><xml>
 <w:LatentStyles DefLockedState="false" DefUnhideWhenUsed="false"
  DefSemiHidden="false" DefQFormat="false" DefPriority="99"
  LatentStyleCount="376">
  <w:LsdException Locked="false" Priority="0" QFormat="true" Name="Normal"/>
  <w:LsdException Locked="false" Priority="9" QFormat="true" Name="heading 1"/>
  <w:LsdException Locked="false" Priority="9" SemiHidden="true"
   UnhideWhenUsed="true" QFormat="true" Name="heading 2"/>
  <w:LsdException Locked="false" Priority="9" SemiHidden="true"
   UnhideWhenUsed="true" QFormat="true" Name="heading 3"/>
  <w:LsdException Locked="false" Priority="9" SemiHidden="true"
   UnhideWhenUsed="true" QFormat="true" Name="heading 4"/>
  <w:LsdException Locked="false" Priority="9" SemiHidden="true"
   UnhideWhenUsed="true" QFormat="true" Name="heading 5"/>
  <w:LsdException Locked="false" Priority="9" SemiHidden="true"
   UnhideWhenUsed="true" QFormat="true" Name="heading 6"/>
  <w:LsdException Locked="false" Priority="9" SemiHidden="true"
   UnhideWhenUsed="true" QFormat="true" Name="heading 7"/>
  <w:LsdException Locked="false" Priority="9" SemiHidden="true"
   UnhideWhenUsed="true" QFormat="true" Name="heading 8"/>
  <w:LsdException Locked="false" Priority="9" SemiHidden="true"
   UnhideWhenUsed="true" QFormat="true" Name="heading 9"/>
  <w:LsdException Locked="false" SemiHidden="true" UnhideWhenUsed="true"
   Name="index 1"/>
  <w:LsdException Locked="false" SemiHidden="true" UnhideWhenUsed="true"
   Name="index 2"/>
  <w:LsdException Locked="false" SemiHidden="true" UnhideWhenUsed="true"
   Name="index 3"/>
  <w:LsdException Locked="false" SemiHidden="true" UnhideWhenUsed="true"
   Name="index 4"/>
  <w:LsdException Locked="false" SemiHidden="true" UnhideWhenUsed="true"
   Name="index 5"/>
  <w:LsdException Locked="false" SemiHidden="true" UnhideWhenUsed="true"
   Name="index 6"/>
  <w:LsdException Locked="false" SemiHidden="true" UnhideWhenUsed="true"
   Name="index 7"/>
  <w:LsdException Locked="false" SemiHidden="true" UnhideWhenUsed="true"
   Name="index 8"/>
  <w:LsdException Locked="false" SemiHidden="true" UnhideWhenUsed="true"
   Name="index 9"/>
  <w:LsdException Locked="false" Priority="39" SemiHidden="true"
   UnhideWhenUsed="true" Name="toc 1"/>
  <w:LsdException Locked="false" Priority="39" SemiHidden="true"
   UnhideWhenUsed="true" Name="toc 2"/>
  <w:LsdException Locked="false" Priority="39" SemiHidden="true"
   UnhideWhenUsed="true" Name="toc 3"/>
  <w:LsdException Locked="false" Priority="39" SemiHidden="true"
   UnhideWhenUsed="true" Name="toc 4"/>
  <w:LsdException Locked="false" Priority="39" SemiHidden="true"
   UnhideWhenUsed="true" Name="toc 5"/>
  <w:LsdException Locked="false" Priority="39" SemiHidden="true"
   UnhideWhenUsed="true" Name="toc 6"/>
  <w:LsdException Locked="false" Priority="39" SemiHidden="true"
   UnhideWhenUsed="true" Name="toc 7"/>
  <w:LsdException Locked="false" Priority="39" SemiHidden="true"
   UnhideWhenUsed="true" Name="toc 8"/>
  <w:LsdException Locked="false" Priority="39" SemiHidden="true"
   UnhideWhenUsed="true" Name="toc 9"/>
  <w:LsdException Locked="false" SemiHidden="true" UnhideWhenUsed="true"
   Name="Normal Indent"/>
  <w:LsdException Locked="false" SemiHidden="true" UnhideWhenUsed="true"
   Name="footnote text"/>
  <w:LsdException Locked="false" SemiHidden="true" UnhideWhenUsed="true"
   Name="annotation text"/>
  <w:LsdException Locked="false" SemiHidden="true" UnhideWhenUsed="true"
   Name="header"/>
  <w:LsdException Locked="false" SemiHidden="true" UnhideWhenUsed="true"
   Name="footer"/>
  <w:LsdException Locked="false" SemiHidden="true" UnhideWhenUsed="true"
   Name="index heading"/>
  <w:LsdException Locked="false" Priority="35" SemiHidden="true"
   UnhideWhenUsed="true" QFormat="true" Name="caption"/>
  <w:LsdException Locked="false" SemiHidden="true" UnhideWhenUsed="true"
   Name="table of figures"/>
  <w:LsdException Locked="false" SemiHidden="true" UnhideWhenUsed="true"
   Name="envelope address"/>
  <w:LsdException Locked="false" SemiHidden="true" UnhideWhenUsed="true"
   Name="envelope return"/>
  <w:LsdException Locked="false" SemiHidden="true" UnhideWhenUsed="true"
   Name="footnote reference"/>
  <w:LsdException Locked="false" SemiHidden="true" UnhideWhenUsed="true"
   Name="annotation reference"/>
  <w:LsdException Locked="false" SemiHidden="true" UnhideWhenUsed="true"
   Name="line number"/>
  <w:LsdException Locked="false" SemiHidden="true" UnhideWhenUsed="true"
   Name="page number"/>
  <w:LsdException Locked="false" SemiHidden="true" UnhideWhenUsed="true"
   Name="endnote reference"/>
  <w:LsdException Locked="false" SemiHidden="true" UnhideWhenUsed="true"
   Name="endnote text"/>
  <w:LsdException Locked="false" SemiHidden="true" UnhideWhenUsed="true"
   Name="table of authorities"/>
  <w:LsdException Locked="false" SemiHidden="true" UnhideWhenUsed="true"
   Name="macro"/>
  <w:LsdException Locked="false" SemiHidden="true" UnhideWhenUsed="true"
   Name="toa heading"/>
  <w:LsdException Locked="false" SemiHidden="true" UnhideWhenUsed="true"
   Name="List"/>
  <w:LsdException Locked="false" SemiHidden="true" UnhideWhenUsed="true"
   Name="List Bullet"/>
  <w:LsdException Locked="false" SemiHidden="true" UnhideWhenUsed="true"
   Name="List Number"/>
  <w:LsdException Locked="false" SemiHidden="true" UnhideWhenUsed="true"
   Name="List 2"/>
  <w:LsdException Locked="false" SemiHidden="true" UnhideWhenUsed="true"
   Name="List 3"/>
  <w:LsdException Locked="false" SemiHidden="true" UnhideWhenUsed="true"
   Name="List 4"/>
  <w:LsdException Locked="false" SemiHidden="true" UnhideWhenUsed="true"
   Name="List 5"/>
  <w:LsdException Locked="false" SemiHidden="true" UnhideWhenUsed="true"
   Name="List Bullet 2"/>
  <w:LsdException Locked="false" SemiHidden="true" UnhideWhenUsed="true"
   Name="List Bullet 3"/>
  <w:LsdException Locked="false" SemiHidden="true" UnhideWhenUsed="true"
   Name="List Bullet 4"/>
  <w:LsdException Locked="false" SemiHidden="true" UnhideWhenUsed="true"
   Name="List Bullet 5"/>
  <w:LsdException Locked="false" SemiHidden="true" UnhideWhenUsed="true"
   Name="List Number 2"/>
  <w:LsdException Locked="false" SemiHidden="true" UnhideWhenUsed="true"
   Name="List Number 3"/>
  <w:LsdException Locked="false" SemiHidden="true" UnhideWhenUsed="true"
   Name="List Number 4"/>
  <w:LsdException Locked="false" SemiHidden="true" UnhideWhenUsed="true"
   Name="List Number 5"/>
  <w:LsdException Locked="false" Priority="10" QFormat="true" Name="Title"/>
  <w:LsdException Locked="false" SemiHidden="true" UnhideWhenUsed="true"
   Name="Closing"/>
  <w:LsdException Locked="false" SemiHidden="true" UnhideWhenUsed="true"
   Name="Signature"/>
  <w:LsdException Locked="false" Priority="1" SemiHidden="true"
   UnhideWhenUsed="true" Name="Default Paragraph Font"/>
  <w:LsdException Locked="false" SemiHidden="true" UnhideWhenUsed="true"
   Name="Body Text"/>
  <w:LsdException Locked="false" SemiHidden="true" UnhideWhenUsed="true"
   Name="Body Text Indent"/>
  <w:LsdException Locked="false" SemiHidden="true" UnhideWhenUsed="true"
   Name="List Continue"/>
  <w:LsdException Locked="false" SemiHidden="true" UnhideWhenUsed="true"
   Name="List Continue 2"/>
  <w:LsdException Locked="false" SemiHidden="true" UnhideWhenUsed="true"
   Name="List Continue 3"/>
  <w:LsdException Locked="false" SemiHidden="true" UnhideWhenUsed="true"
   Name="List Continue 4"/>
  <w:LsdException Locked="false" SemiHidden="true" UnhideWhenUsed="true"
   Name="List Continue 5"/>
  <w:LsdException Locked="false" SemiHidden="true" UnhideWhenUsed="true"
   Name="Message Header"/>
  <w:LsdException Locked="false" Priority="11" QFormat="true" Name="Subtitle"/>
  <w:LsdException Locked="false" SemiHidden="true" UnhideWhenUsed="true"
   Name="Salutation"/>
  <w:LsdException Locked="false" SemiHidden="true" UnhideWhenUsed="true"
   Name="Date"/>
  <w:LsdException Locked="false" SemiHidden="true" UnhideWhenUsed="true"
   Name="Body Text First Indent"/>
  <w:LsdException Locked="false" SemiHidden="true" UnhideWhenUsed="true"
   Name="Body Text First Indent 2"/>
  <w:LsdException Locked="false" SemiHidden="true" UnhideWhenUsed="true"
   Name="Note Heading"/>
  <w:LsdException Locked="false" SemiHidden="true" UnhideWhenUsed="true"
   Name="Body Text 2"/>
  <w:LsdException Locked="false" SemiHidden="true" UnhideWhenUsed="true"
   Name="Body Text 3"/>
  <w:LsdException Locked="false" SemiHidden="true" UnhideWhenUsed="true"
   Name="Body Text Indent 2"/>
  <w:LsdException Locked="false" SemiHidden="true" UnhideWhenUsed="true"
   Name="Body Text Indent 3"/>
  <w:LsdException Locked="false" SemiHidden="true" UnhideWhenUsed="true"
   Name="Block Text"/>
  <w:LsdException Locked="false" SemiHidden="true" UnhideWhenUsed="true"
   Name="Hyperlink"/>
  <w:LsdException Locked="false" SemiHidden="true" UnhideWhenUsed="true"
   Name="FollowedHyperlink"/>
  <w:LsdException Locked="false" Priority="22" QFormat="true" Name="Strong"/>
  <w:LsdException Locked="false" Priority="20" QFormat="true" Name="Emphasis"/>
  <w:LsdException Locked="false" SemiHidden="true" UnhideWhenUsed="true"
   Name="Document Map"/>
  <w:LsdException Locked="false" SemiHidden="true" UnhideWhenUsed="true"
   Name="Plain Text"/>
  <w:LsdException Locked="false" SemiHidden="true" UnhideWhenUsed="true"
   Name="E-mail Signature"/>
  <w:LsdException Locked="false" SemiHidden="true" UnhideWhenUsed="true"
   Name="HTML Top of Form"/>
  <w:LsdException Locked="false" SemiHidden="true" UnhideWhenUsed="true"
   Name="HTML Bottom of Form"/>
  <w:LsdException Locked="false" SemiHidden="true" UnhideWhenUsed="true"
   Name="Normal (Web)"/>
  <w:LsdException Locked="false" SemiHidden="true" UnhideWhenUsed="true"
   Name="HTML Acronym"/>
  <w:LsdException Locked="false" SemiHidden="true" UnhideWhenUsed="true"
   Name="HTML Address"/>
  <w:LsdException Locked="false" SemiHidden="true" UnhideWhenUsed="true"
   Name="HTML Cite"/>
  <w:LsdException Locked="false" SemiHidden="true" UnhideWhenUsed="true"
   Name="HTML Code"/>
  <w:LsdException Locked="false" SemiHidden="true" UnhideWhenUsed="true"
   Name="HTML Definition"/>
  <w:LsdException Locked="false" SemiHidden="true" UnhideWhenUsed="true"
   Name="HTML Keyboard"/>
  <w:LsdException Locked="false" SemiHidden="true" UnhideWhenUsed="true"
   Name="HTML Preformatted"/>
  <w:LsdException Locked="false" SemiHidden="true" UnhideWhenUsed="true"
   Name="HTML Sample"/>
  <w:LsdException Locked="false" SemiHidden="true" UnhideWhenUsed="true"
   Name="HTML Typewriter"/>
  <w:LsdException Locked="false" SemiHidden="true" UnhideWhenUsed="true"
   Name="HTML Variable"/>
  <w:LsdException Locked="false" SemiHidden="true" UnhideWhenUsed="true"
   Name="Normal Table"/>
  <w:LsdException Locked="false" SemiHidden="true" UnhideWhenUsed="true"
   Name="annotation subject"/>
  <w:LsdException Locked="false" SemiHidden="true" UnhideWhenUsed="true"
   Name="No List"/>
  <w:LsdException Locked="false" SemiHidden="true" UnhideWhenUsed="true"
   Name="Outline List 1"/>
  <w:LsdException Locked="false" SemiHidden="true" UnhideWhenUsed="true"
   Name="Outline List 2"/>
  <w:LsdException Locked="false" SemiHidden="true" UnhideWhenUsed="true"
   Name="Outline List 3"/>
  <w:LsdException Locked="false" SemiHidden="true" UnhideWhenUsed="true"
   Name="Table Simple 1"/>
  <w:LsdException Locked="false" SemiHidden="true" UnhideWhenUsed="true"
   Name="Table Simple 2"/>
  <w:LsdException Locked="false" SemiHidden="true" UnhideWhenUsed="true"
   Name="Table Simple 3"/>
  <w:LsdException Locked="false" SemiHidden="true" UnhideWhenUsed="true"
   Name="Table Classic 1"/>
  <w:LsdException Locked="false" SemiHidden="true" UnhideWhenUsed="true"
   Name="Table Classic 2"/>
  <w:LsdException Locked="false" SemiHidden="true" UnhideWhenUsed="true"
   Name="Table Classic 3"/>
  <w:LsdException Locked="false" SemiHidden="true" UnhideWhenUsed="true"
   Name="Table Classic 4"/>
  <w:LsdException Locked="false" SemiHidden="true" UnhideWhenUsed="true"
   Name="Table Colorful 1"/>
  <w:LsdException Locked="false" SemiHidden="true" UnhideWhenUsed="true"
   Name="Table Colorful 2"/>
  <w:LsdException Locked="false" SemiHidden="true" UnhideWhenUsed="true"
   Name="Table Colorful 3"/>
  <w:LsdException Locked="false" SemiHidden="true" UnhideWhenUsed="true"
   Name="Table Columns 1"/>
  <w:LsdException Locked="false" SemiHidden="true" UnhideWhenUsed="true"
   Name="Table Columns 2"/>
  <w:LsdException Locked="false" SemiHidden="true" UnhideWhenUsed="true"
   Name="Table Columns 3"/>
  <w:LsdException Locked="false" SemiHidden="true" UnhideWhenUsed="true"
   Name="Table Columns 4"/>
  <w:LsdException Locked="false" SemiHidden="true" UnhideWhenUsed="true"
   Name="Table Columns 5"/>
  <w:LsdException Locked="false" SemiHidden="true" UnhideWhenUsed="true"
   Name="Table Grid 1"/>
  <w:LsdException Locked="false" SemiHidden="true" UnhideWhenUsed="true"
   Name="Table Grid 2"/>
  <w:LsdException Locked="false" SemiHidden="true" UnhideWhenUsed="true"
   Name="Table Grid 3"/>
  <w:LsdException Locked="false" SemiHidden="true" UnhideWhenUsed="true"
   Name="Table Grid 4"/>
  <w:LsdException Locked="false" SemiHidden="true" UnhideWhenUsed="true"
   Name="Table Grid 5"/>
  <w:LsdException Locked="false" SemiHidden="true" UnhideWhenUsed="true"
   Name="Table Grid 6"/>
  <w:LsdException Locked="false" SemiHidden="true" UnhideWhenUsed="true"
   Name="Table Grid 7"/>
  <w:LsdException Locked="false" SemiHidden="true" UnhideWhenUsed="true"
   Name="Table Grid 8"/>
  <w:LsdException Locked="false" SemiHidden="true" UnhideWhenUsed="true"
   Name="Table List 1"/>
  <w:LsdException Locked="false" SemiHidden="true" UnhideWhenUsed="true"
   Name="Table List 2"/>
  <w:LsdException Locked="false" SemiHidden="true" UnhideWhenUsed="true"
   Name="Table List 3"/>
  <w:LsdException Locked="false" SemiHidden="true" UnhideWhenUsed="true"
   Name="Table List 4"/>
  <w:LsdException Locked="false" SemiHidden="true" UnhideWhenUsed="true"
   Name="Table List 5"/>
  <w:LsdException Locked="false" SemiHidden="true" UnhideWhenUsed="true"
   Name="Table List 6"/>
  <w:LsdException Locked="false" SemiHidden="true" UnhideWhenUsed="true"
   Name="Table List 7"/>
  <w:LsdException Locked="false" SemiHidden="true" UnhideWhenUsed="true"
   Name="Table List 8"/>
  <w:LsdException Locked="false" SemiHidden="true" UnhideWhenUsed="true"
   Name="Table 3D effects 1"/>
  <w:LsdException Locked="false" SemiHidden="true" UnhideWhenUsed="true"
   Name="Table 3D effects 2"/>
  <w:LsdException Locked="false" SemiHidden="true" UnhideWhenUsed="true"
   Name="Table 3D effects 3"/>
  <w:LsdException Locked="false" SemiHidden="true" UnhideWhenUsed="true"
   Name="Table Contemporary"/>
  <w:LsdException Locked="false" SemiHidden="true" UnhideWhenUsed="true"
   Name="Table Elegant"/>
  <w:LsdException Locked="false" SemiHidden="true" UnhideWhenUsed="true"
   Name="Table Professional"/>
  <w:LsdException Locked="false" SemiHidden="true" UnhideWhenUsed="true"
   Name="Table Subtle 1"/>
  <w:LsdException Locked="false" SemiHidden="true" UnhideWhenUsed="true"
   Name="Table Subtle 2"/>
  <w:LsdException Locked="false" SemiHidden="true" UnhideWhenUsed="true"
   Name="Table Web 1"/>
  <w:LsdException Locked="false" SemiHidden="true" UnhideWhenUsed="true"
   Name="Table Web 2"/>
  <w:LsdException Locked="false" SemiHidden="true" UnhideWhenUsed="true"
   Name="Table Web 3"/>
  <w:LsdException Locked="false" SemiHidden="true" UnhideWhenUsed="true"
   Name="Balloon Text"/>
  <w:LsdException Locked="false" Priority="39" Name="Table Grid"/>
  <w:LsdException Locked="false" SemiHidden="true" UnhideWhenUsed="true"
   Name="Table Theme"/>
  <w:LsdException Locked="false" SemiHidden="true" Name="Placeholder Text"/>
  <w:LsdException Locked="false" Priority="1" QFormat="true" Name="No Spacing"/>
  <w:LsdException Locked="false" Priority="60" Name="Light Shading"/>
  <w:LsdException Locked="false" Priority="61" Name="Light List"/>
  <w:LsdException Locked="false" Priority="62" Name="Light Grid"/>
  <w:LsdException Locked="false" Priority="63" Name="Medium Shading 1"/>
  <w:LsdException Locked="false" Priority="64" Name="Medium Shading 2"/>
  <w:LsdException Locked="false" Priority="65" Name="Medium List 1"/>
  <w:LsdException Locked="false" Priority="66" Name="Medium List 2"/>
  <w:LsdException Locked="false" Priority="67" Name="Medium Grid 1"/>
  <w:LsdException Locked="false" Priority="68" Name="Medium Grid 2"/>
  <w:LsdException Locked="false" Priority="69" Name="Medium Grid 3"/>
  <w:LsdException Locked="false" Priority="70" Name="Dark List"/>
  <w:LsdException Locked="false" Priority="71" Name="Colorful Shading"/>
  <w:LsdException Locked="false" Priority="72" Name="Colorful List"/>
  <w:LsdException Locked="false" Priority="73" Name="Colorful Grid"/>
  <w:LsdException Locked="false" Priority="60" Name="Light Shading Accent 1"/>
  <w:LsdException Locked="false" Priority="61" Name="Light List Accent 1"/>
  <w:LsdException Locked="false" Priority="62" Name="Light Grid Accent 1"/>
  <w:LsdException Locked="false" Priority="63" Name="Medium Shading 1 Accent 1"/>
  <w:LsdException Locked="false" Priority="64" Name="Medium Shading 2 Accent 1"/>
  <w:LsdException Locked="false" Priority="65" Name="Medium List 1 Accent 1"/>
  <w:LsdException Locked="false" SemiHidden="true" Name="Revision"/>
  <w:LsdException Locked="false" Priority="34" QFormat="true"
   Name="List Paragraph"/>
  <w:LsdException Locked="false" Priority="29" QFormat="true" Name="Quote"/>
  <w:LsdException Locked="false" Priority="30" QFormat="true"
   Name="Intense Quote"/>
  <w:LsdException Locked="false" Priority="66" Name="Medium List 2 Accent 1"/>
  <w:LsdException Locked="false" Priority="67" Name="Medium Grid 1 Accent 1"/>
  <w:LsdException Locked="false" Priority="68" Name="Medium Grid 2 Accent 1"/>
  <w:LsdException Locked="false" Priority="69" Name="Medium Grid 3 Accent 1"/>
  <w:LsdException Locked="false" Priority="70" Name="Dark List Accent 1"/>
  <w:LsdException Locked="false" Priority="71" Name="Colorful Shading Accent 1"/>
  <w:LsdException Locked="false" Priority="72" Name="Colorful List Accent 1"/>
  <w:LsdException Locked="false" Priority="73" Name="Colorful Grid Accent 1"/>
  <w:LsdException Locked="false" Priority="60" Name="Light Shading Accent 2"/>
  <w:LsdException Locked="false" Priority="61" Name="Light List Accent 2"/>
  <w:LsdException Locked="false" Priority="62" Name="Light Grid Accent 2"/>
  <w:LsdException Locked="false" Priority="63" Name="Medium Shading 1 Accent 2"/>
  <w:LsdException Locked="false" Priority="64" Name="Medium Shading 2 Accent 2"/>
  <w:LsdException Locked="false" Priority="65" Name="Medium List 1 Accent 2"/>
  <w:LsdException Locked="false" Priority="66" Name="Medium List 2 Accent 2"/>
  <w:LsdException Locked="false" Priority="67" Name="Medium Grid 1 Accent 2"/>
  <w:LsdException Locked="false" Priority="68" Name="Medium Grid 2 Accent 2"/>
  <w:LsdException Locked="false" Priority="69" Name="Medium Grid 3 Accent 2"/>
  <w:LsdException Locked="false" Priority="70" Name="Dark List Accent 2"/>
  <w:LsdException Locked="false" Priority="71" Name="Colorful Shading Accent 2"/>
  <w:LsdException Locked="false" Priority="72" Name="Colorful List Accent 2"/>
  <w:LsdException Locked="false" Priority="73" Name="Colorful Grid Accent 2"/>
  <w:LsdException Locked="false" Priority="60" Name="Light Shading Accent 3"/>
  <w:LsdException Locked="false" Priority="61" Name="Light List Accent 3"/>
  <w:LsdException Locked="false" Priority="62" Name="Light Grid Accent 3"/>
  <w:LsdException Locked="false" Priority="63" Name="Medium Shading 1 Accent 3"/>
  <w:LsdException Locked="false" Priority="64" Name="Medium Shading 2 Accent 3"/>
  <w:LsdException Locked="false" Priority="65" Name="Medium List 1 Accent 3"/>
  <w:LsdException Locked="false" Priority="66" Name="Medium List 2 Accent 3"/>
  <w:LsdException Locked="false" Priority="67" Name="Medium Grid 1 Accent 3"/>
  <w:LsdException Locked="false" Priority="68" Name="Medium Grid 2 Accent 3"/>
  <w:LsdException Locked="false" Priority="69" Name="Medium Grid 3 Accent 3"/>
  <w:LsdException Locked="false" Priority="70" Name="Dark List Accent 3"/>
  <w:LsdException Locked="false" Priority="71" Name="Colorful Shading Accent 3"/>
  <w:LsdException Locked="false" Priority="72" Name="Colorful List Accent 3"/>
  <w:LsdException Locked="false" Priority="73" Name="Colorful Grid Accent 3"/>
  <w:LsdException Locked="false" Priority="60" Name="Light Shading Accent 4"/>
  <w:LsdException Locked="false" Priority="61" Name="Light List Accent 4"/>
  <w:LsdException Locked="false" Priority="62" Name="Light Grid Accent 4"/>
  <w:LsdException Locked="false" Priority="63" Name="Medium Shading 1 Accent 4"/>
  <w:LsdException Locked="false" Priority="64" Name="Medium Shading 2 Accent 4"/>
  <w:LsdException Locked="false" Priority="65" Name="Medium List 1 Accent 4"/>
  <w:LsdException Locked="false" Priority="66" Name="Medium List 2 Accent 4"/>
  <w:LsdException Locked="false" Priority="67" Name="Medium Grid 1 Accent 4"/>
  <w:LsdException Locked="false" Priority="68" Name="Medium Grid 2 Accent 4"/>
  <w:LsdException Locked="false" Priority="69" Name="Medium Grid 3 Accent 4"/>
  <w:LsdException Locked="false" Priority="70" Name="Dark List Accent 4"/>
  <w:LsdException Locked="false" Priority="71" Name="Colorful Shading Accent 4"/>
  <w:LsdException Locked="false" Priority="72" Name="Colorful List Accent 4"/>
  <w:LsdException Locked="false" Priority="73" Name="Colorful Grid Accent 4"/>
  <w:LsdException Locked="false" Priority="60" Name="Light Shading Accent 5"/>
  <w:LsdException Locked="false" Priority="61" Name="Light List Accent 5"/>
  <w:LsdException Locked="false" Priority="62" Name="Light Grid Accent 5"/>
  <w:LsdException Locked="false" Priority="63" Name="Medium Shading 1 Accent 5"/>
  <w:LsdException Locked="false" Priority="64" Name="Medium Shading 2 Accent 5"/>
  <w:LsdException Locked="false" Priority="65" Name="Medium List 1 Accent 5"/>
  <w:LsdException Locked="false" Priority="66" Name="Medium List 2 Accent 5"/>
  <w:LsdException Locked="false" Priority="67" Name="Medium Grid 1 Accent 5"/>
  <w:LsdException Locked="false" Priority="68" Name="Medium Grid 2 Accent 5"/>
  <w:LsdException Locked="false" Priority="69" Name="Medium Grid 3 Accent 5"/>
  <w:LsdException Locked="false" Priority="70" Name="Dark List Accent 5"/>
  <w:LsdException Locked="false" Priority="71" Name="Colorful Shading Accent 5"/>
  <w:LsdException Locked="false" Priority="72" Name="Colorful List Accent 5"/>
  <w:LsdException Locked="false" Priority="73" Name="Colorful Grid Accent 5"/>
  <w:LsdException Locked="false" Priority="60" Name="Light Shading Accent 6"/>
  <w:LsdException Locked="false" Priority="61" Name="Light List Accent 6"/>
  <w:LsdException Locked="false" Priority="62" Name="Light Grid Accent 6"/>
  <w:LsdException Locked="false" Priority="63" Name="Medium Shading 1 Accent 6"/>
  <w:LsdException Locked="false" Priority="64" Name="Medium Shading 2 Accent 6"/>
  <w:LsdException Locked="false" Priority="65" Name="Medium List 1 Accent 6"/>
  <w:LsdException Locked="false" Priority="66" Name="Medium List 2 Accent 6"/>
  <w:LsdException Locked="false" Priority="67" Name="Medium Grid 1 Accent 6"/>
  <w:LsdException Locked="false" Priority="68" Name="Medium Grid 2 Accent 6"/>
  <w:LsdException Locked="false" Priority="69" Name="Medium Grid 3 Accent 6"/>
  <w:LsdException Locked="false" Priority="70" Name="Dark List Accent 6"/>
  <w:LsdException Locked="false" Priority="71" Name="Colorful Shading Accent 6"/>
  <w:LsdException Locked="false" Priority="72" Name="Colorful List Accent 6"/>
  <w:LsdException Locked="false" Priority="73" Name="Colorful Grid Accent 6"/>
  <w:LsdException Locked="false" Priority="19" QFormat="true"
   Name="Subtle Emphasis"/>
  <w:LsdException Locked="false" Priority="21" QFormat="true"
   Name="Intense Emphasis"/>
  <w:LsdException Locked="false" Priority="31" QFormat="true"
   Name="Subtle Reference"/>
  <w:LsdException Locked="false" Priority="32" QFormat="true"
   Name="Intense Reference"/>
  <w:LsdException Locked="false" Priority="33" QFormat="true" Name="Book Title"/>
  <w:LsdException Locked="false" Priority="37" SemiHidden="true"
   UnhideWhenUsed="true" Name="Bibliography"/>
  <w:LsdException Locked="false" Priority="39" SemiHidden="true"
   UnhideWhenUsed="true" QFormat="true" Name="TOC Heading"/>
  <w:LsdException Locked="false" Priority="41" Name="Plain Table 1"/>
  <w:LsdException Locked="false" Priority="42" Name="Plain Table 2"/>
  <w:LsdException Locked="false" Priority="43" Name="Plain Table 3"/>
  <w:LsdException Locked="false" Priority="44" Name="Plain Table 4"/>
  <w:LsdException Locked="false" Priority="45" Name="Plain Table 5"/>
  <w:LsdException Locked="false" Priority="40" Name="Grid Table Light"/>
  <w:LsdException Locked="false" Priority="46" Name="Grid Table 1 Light"/>
  <w:LsdException Locked="false" Priority="47" Name="Grid Table 2"/>
  <w:LsdException Locked="false" Priority="48" Name="Grid Table 3"/>
  <w:LsdException Locked="false" Priority="49" Name="Grid Table 4"/>
  <w:LsdException Locked="false" Priority="50" Name="Grid Table 5 Dark"/>
  <w:LsdException Locked="false" Priority="51" Name="Grid Table 6 Colorful"/>
  <w:LsdException Locked="false" Priority="52" Name="Grid Table 7 Colorful"/>
  <w:LsdException Locked="false" Priority="46"
   Name="Grid Table 1 Light Accent 1"/>
  <w:LsdException Locked="false" Priority="47" Name="Grid Table 2 Accent 1"/>
  <w:LsdException Locked="false" Priority="48" Name="Grid Table 3 Accent 1"/>
  <w:LsdException Locked="false" Priority="49" Name="Grid Table 4 Accent 1"/>
  <w:LsdException Locked="false" Priority="50" Name="Grid Table 5 Dark Accent 1"/>
  <w:LsdException Locked="false" Priority="51"
   Name="Grid Table 6 Colorful Accent 1"/>
  <w:LsdException Locked="false" Priority="52"
   Name="Grid Table 7 Colorful Accent 1"/>
  <w:LsdException Locked="false" Priority="46"
   Name="Grid Table 1 Light Accent 2"/>
  <w:LsdException Locked="false" Priority="47" Name="Grid Table 2 Accent 2"/>
  <w:LsdException Locked="false" Priority="48" Name="Grid Table 3 Accent 2"/>
  <w:LsdException Locked="false" Priority="49" Name="Grid Table 4 Accent 2"/>
  <w:LsdException Locked="false" Priority="50" Name="Grid Table 5 Dark Accent 2"/>
  <w:LsdException Locked="false" Priority="51"
   Name="Grid Table 6 Colorful Accent 2"/>
  <w:LsdException Locked="false" Priority="52"
   Name="Grid Table 7 Colorful Accent 2"/>
  <w:LsdException Locked="false" Priority="46"
   Name="Grid Table 1 Light Accent 3"/>
  <w:LsdException Locked="false" Priority="47" Name="Grid Table 2 Accent 3"/>
  <w:LsdException Locked="false" Priority="48" Name="Grid Table 3 Accent 3"/>
  <w:LsdException Locked="false" Priority="49" Name="Grid Table 4 Accent 3"/>
  <w:LsdException Locked="false" Priority="50" Name="Grid Table 5 Dark Accent 3"/>
  <w:LsdException Locked="false" Priority="51"
   Name="Grid Table 6 Colorful Accent 3"/>
  <w:LsdException Locked="false" Priority="52"
   Name="Grid Table 7 Colorful Accent 3"/>
  <w:LsdException Locked="false" Priority="46"
   Name="Grid Table 1 Light Accent 4"/>
  <w:LsdException Locked="false" Priority="47" Name="Grid Table 2 Accent 4"/>
  <w:LsdException Locked="false" Priority="48" Name="Grid Table 3 Accent 4"/>
  <w:LsdException Locked="false" Priority="49" Name="Grid Table 4 Accent 4"/>
  <w:LsdException Locked="false" Priority="50" Name="Grid Table 5 Dark Accent 4"/>
  <w:LsdException Locked="false" Priority="51"
   Name="Grid Table 6 Colorful Accent 4"/>
  <w:LsdException Locked="false" Priority="52"
   Name="Grid Table 7 Colorful Accent 4"/>
  <w:LsdException Locked="false" Priority="46"
   Name="Grid Table 1 Light Accent 5"/>
  <w:LsdException Locked="false" Priority="47" Name="Grid Table 2 Accent 5"/>
  <w:LsdException Locked="false" Priority="48" Name="Grid Table 3 Accent 5"/>
  <w:LsdException Locked="false" Priority="49" Name="Grid Table 4 Accent 5"/>
  <w:LsdException Locked="false" Priority="50" Name="Grid Table 5 Dark Accent 5"/>
  <w:LsdException Locked="false" Priority="51"
   Name="Grid Table 6 Colorful Accent 5"/>
  <w:LsdException Locked="false" Priority="52"
   Name="Grid Table 7 Colorful Accent 5"/>
  <w:LsdException Locked="false" Priority="46"
   Name="Grid Table 1 Light Accent 6"/>
  <w:LsdException Locked="false" Priority="47" Name="Grid Table 2 Accent 6"/>
  <w:LsdException Locked="false" Priority="48" Name="Grid Table 3 Accent 6"/>
  <w:LsdException Locked="false" Priority="49" Name="Grid Table 4 Accent 6"/>
  <w:LsdException Locked="false" Priority="50" Name="Grid Table 5 Dark Accent 6"/>
  <w:LsdException Locked="false" Priority="51"
   Name="Grid Table 6 Colorful Accent 6"/>
  <w:LsdException Locked="false" Priority="52"
   Name="Grid Table 7 Colorful Accent 6"/>
  <w:LsdException Locked="false" Priority="46" Name="List Table 1 Light"/>
  <w:LsdException Locked="false" Priority="47" Name="List Table 2"/>
  <w:LsdException Locked="false" Priority="48" Name="List Table 3"/>
  <w:LsdException Locked="false" Priority="49" Name="List Table 4"/>
  <w:LsdException Locked="false" Priority="50" Name="List Table 5 Dark"/>
  <w:LsdException Locked="false" Priority="51" Name="List Table 6 Colorful"/>
  <w:LsdException Locked="false" Priority="52" Name="List Table 7 Colorful"/>
  <w:LsdException Locked="false" Priority="46"
   Name="List Table 1 Light Accent 1"/>
  <w:LsdException Locked="false" Priority="47" Name="List Table 2 Accent 1"/>
  <w:LsdException Locked="false" Priority="48" Name="List Table 3 Accent 1"/>
  <w:LsdException Locked="false" Priority="49" Name="List Table 4 Accent 1"/>
  <w:LsdException Locked="false" Priority="50" Name="List Table 5 Dark Accent 1"/>
  <w:LsdException Locked="false" Priority="51"
   Name="List Table 6 Colorful Accent 1"/>
  <w:LsdException Locked="false" Priority="52"
   Name="List Table 7 Colorful Accent 1"/>
  <w:LsdException Locked="false" Priority="46"
   Name="List Table 1 Light Accent 2"/>
  <w:LsdException Locked="false" Priority="47" Name="List Table 2 Accent 2"/>
  <w:LsdException Locked="false" Priority="48" Name="List Table 3 Accent 2"/>
  <w:LsdException Locked="false" Priority="49" Name="List Table 4 Accent 2"/>
  <w:LsdException Locked="false" Priority="50" Name="List Table 5 Dark Accent 2"/>
  <w:LsdException Locked="false" Priority="51"
   Name="List Table 6 Colorful Accent 2"/>
  <w:LsdException Locked="false" Priority="52"
   Name="List Table 7 Colorful Accent 2"/>
  <w:LsdException Locked="false" Priority="46"
   Name="List Table 1 Light Accent 3"/>
  <w:LsdException Locked="false" Priority="47" Name="List Table 2 Accent 3"/>
  <w:LsdException Locked="false" Priority="48" Name="List Table 3 Accent 3"/>
  <w:LsdException Locked="false" Priority="49" Name="List Table 4 Accent 3"/>
  <w:LsdException Locked="false" Priority="50" Name="List Table 5 Dark Accent 3"/>
  <w:LsdException Locked="false" Priority="51"
   Name="List Table 6 Colorful Accent 3"/>
  <w:LsdException Locked="false" Priority="52"
   Name="List Table 7 Colorful Accent 3"/>
  <w:LsdException Locked="false" Priority="46"
   Name="List Table 1 Light Accent 4"/>
  <w:LsdException Locked="false" Priority="47" Name="List Table 2 Accent 4"/>
  <w:LsdException Locked="false" Priority="48" Name="List Table 3 Accent 4"/>
  <w:LsdException Locked="false" Priority="49" Name="List Table 4 Accent 4"/>
  <w:LsdException Locked="false" Priority="50" Name="List Table 5 Dark Accent 4"/>
  <w:LsdException Locked="false" Priority="51"
   Name="List Table 6 Colorful Accent 4"/>
  <w:LsdException Locked="false" Priority="52"
   Name="List Table 7 Colorful Accent 4"/>
  <w:LsdException Locked="false" Priority="46"
   Name="List Table 1 Light Accent 5"/>
  <w:LsdException Locked="false" Priority="47" Name="List Table 2 Accent 5"/>
  <w:LsdException Locked="false" Priority="48" Name="List Table 3 Accent 5"/>
  <w:LsdException Locked="false" Priority="49" Name="List Table 4 Accent 5"/>
  <w:LsdException Locked="false" Priority="50" Name="List Table 5 Dark Accent 5"/>
  <w:LsdException Locked="false" Priority="51"
   Name="List Table 6 Colorful Accent 5"/>
  <w:LsdException Locked="false" Priority="52"
   Name="List Table 7 Colorful Accent 5"/>
  <w:LsdException Locked="false" Priority="46"
   Name="List Table 1 Light Accent 6"/>
  <w:LsdException Locked="false" Priority="47" Name="List Table 2 Accent 6"/>
  <w:LsdException Locked="false" Priority="48" Name="List Table 3 Accent 6"/>
  <w:LsdException Locked="false" Priority="49" Name="List Table 4 Accent 6"/>
  <w:LsdException Locked="false" Priority="50" Name="List Table 5 Dark Accent 6"/>
  <w:LsdException Locked="false" Priority="51"
   Name="List Table 6 Colorful Accent 6"/>
  <w:LsdException Locked="false" Priority="52"
   Name="List Table 7 Colorful Accent 6"/>
  <w:LsdException Locked="false" SemiHidden="true" UnhideWhenUsed="true"
   Name="Mention"/>
  <w:LsdException Locked="false" SemiHidden="true" UnhideWhenUsed="true"
   Name="Smart Hyperlink"/>
  <w:LsdException Locked="false" SemiHidden="true" UnhideWhenUsed="true"
   Name="Hashtag"/>
  <w:LsdException Locked="false" SemiHidden="true" UnhideWhenUsed="true"
   Name="Unresolved Mention"/>
  <w:LsdException Locked="false" SemiHidden="true" UnhideWhenUsed="true"
   Name="Smart Link"/>
 </w:LatentStyles>
</xml><![endif]-->
<style scoped>
<!--
\n",
       "    .dataframe tbody tr th:only-of-type {\n",
       "        vertical-align: middle;\n",
       "    }\n",
       "\n",
       "    .dataframe tbody tr th {\n",
       "        vertical-align: top;\n",
       "    }\n",
       "\n",
       "    .dataframe thead th {\n",
       "        text-align: right;\n",
       "    }\n",
       "</style>\n",
       "<table border=\"1\" class=\"dataframe\">\n",
       "  <thead>\n",
       "    <tr style=\"text-align: right;\">\n",
       "      <th></th>\n",
       "      <th>Age</th>\n",
       "      <th>Sex</th>\n",
       "      <th>Chest pain type</th>\n",
       "      <th>BP</th>\n",
       "      <th>Cholesterol</th>\n",
       "      <th>FBS over 120</th>\n",
       "      <th>EKG results</th>\n",
       "      <th>Max HR</th>\n",
       "      <th>Exercise angina</th>\n",
       "      <th>ST depression</th>\n",
       "      <th>Slope of ST</th>\n",
       "      <th>Number of vessels fluro</th>\n",
       "      <th>Thallium</th>\n",
       "      <th>Heart Disease</th>\n",
       "    </tr>\n",
       "  </thead>\n",
       "  <tbody>\n",
       "    <tr>\n",
       "      <th>0</th>\n",
       "      <td>70</td>\n",
       "      <td>1</td>\n",
       "      <td>4</td>\n",
       "      <td>130</td>\n",
       "      <td>322</td>\n",
       "      <td>0</td>\n",
       "      <td>2</td>\n",
       "      <td>109</td>\n",
       "      <td>0</td>\n",
       "      <td>2.4</td>\n",
       "      <td>2</td>\n",
       "      <td>3</td>\n",
       "      <td>3</td>\n",
       "      <td>Presence</td>\n",
       "    </tr>\n",
       "    <tr>\n",
       "      <th>1</th>\n",
       "      <td>67</td>\n",
       "      <td>0</td>\n",
       "      <td>3</td>\n",
       "      <td>115</td>\n",
       "      <td>564</td>\n",
       "      <td>0</td>\n",
       "      <td>2</td>\n",
       "      <td>160</td>\n",
       "      <td>0</td>\n",
       "      <td>1.6</td>\n",
       "      <td>2</td>\n",
       "      <td>0</td>\n",
       "      <td>7</td>\n",
       "      <td>Absence</td>\n",
       "    </tr>\n",
       "    <tr>\n",
       "      <th>2</th>\n",
       "      <td>57</td>\n",
       "      <td>1</td>\n",
       "      <td>2</td>\n",
       "      <td>124</td>\n",
       "      <td>261</td>\n",
       "      <td>0</td>\n",
       "      <td>0</td>\n",
       "      <td>141</td>\n",
       "      <td>0</td>\n",
       "      <td>0.3</td>\n",
       "      <td>1</td>\n",
       "      <td>0</td>\n",
       "      <td>7</td>\n",
       "      <td>Presence</td>\n",
       "    </tr>\n",
       "    <tr>\n",
       "      <th>3</th>\n",
       "      <td>64</td>\n",
       "      <td>1</td>\n",
       "      <td>4</td>\n",
       "      <td>128</td>\n",
       "      <td>263</td>\n",
       "      <td>0</td>\n",
       "      <td>0</td>\n",
       "      <td>105</td>\n",
       "      <td>1</td>\n",
       "      <td>0.2</td>\n",
       "      <td>2</td>\n",
       "      <td>1</td>\n",
       "      <td>7</td>\n",
       "      <td>Absence</td>\n",
       "    </tr>\n",
       "    <tr>\n",
       "      <th>4</th>\n",
       "      <td>74</td>\n",
       "      <td>0</td>\n",
       "      <td>2</td>\n",
       "      <td>120</td>\n",
       "      <td>269</td>\n",
       "      <td>0</td>\n",
       "      <td>2</td>\n",
       "      <td>121</td>\n",
       "      <td>1</td>\n",
       "      <td>0.2</td>\n",
       "      <td>1</td>\n",
       "      <td>1</td>\n",
       "      <td>3</td>\n",
       "      <td>Absence</td>\n",
       "    </tr>\n",
       "    <tr>\n",
       "      <th>5</th>\n",
       "      <td>65</td>\n",
       "      <td>1</td>\n",
       "      <td>4</td>\n",
       "      <td>120</td>\n",
       "      <td>177</td>\n",
       "      <td>0</td>\n",
       "      <td>0</td>\n",
       "      <td>140</td>\n",
       "      <td>0</td>\n",
       "      <td>0.4</td>\n",
       "      <td>1</td>\n",
       "      <td>0</td>\n",
       "      <td>7</td>\n",
       "      <td>Absence</td>\n",
       "    </tr>\n",
       "    <tr>\n",
       "      <th>6</th>\n",
       "      <td>56</td>\n",
       "      <td>1</td>\n",
       "      <td>3</td>\n",
       "      <td>130</td>\n",
       "      <td>256</td>\n",
       "      <td>1</td>\n",
       "      <td>2</td>\n",
       "      <td>142</td>\n",
       "      <td>1</td>\n",
       "      <td>0.6</td>\n",
       "      <td>2</td>\n",
       "      <td>1</td>\n",
       "      <td>6</td>\n",
       "      <td>Presence</td>\n",
       "    </tr>\n",
       "    <tr>\n",
       "      <th>7</th>\n",
       "      <td>59</td>\n",
       "      <td>1</td>\n",
       "      <td>4</td>\n",
       "      <td>110</td>\n",
       "      <td>239</td>\n",
       "      <td>0</td>\n",
       "      <td>2</td>\n",
       "      <td>142</td>\n",
       "      <td>1</td>\n",
       "      <td>1.2</td>\n",
       "      <td>2</td>\n",
       "      <td>1</td>\n",
       "      <td>7</td>\n",
       "      <td>Presence</td>\n",
       "    </tr>\n",
       "    <tr>\n",
       "      <th>8</th>\n",
       "      <td>60</td>\n",
       "      <td>1</td>\n",
       "      <td>4</td>\n",
       "      <td>140</td>\n",
       "      <td>293</td>\n",
       "      <td>0</td>\n",
       "      <td>2</td>\n",
       "      <td>170</td>\n",
       "      <td>0</td>\n",
       "      <td>1.2</td>\n",
       "      <td>2</td>\n",
       "      <td>2</td>\n",
       "      <td>7</td>\n",
       "      <td>Presence</td>\n",
       "    </tr>\n",
       "    <tr>\n",
       "      <th>9</th>\n",
       "      <td>63</td>\n",
       "      <td>0</td>\n",
       "      <td>4</td>\n",
       "      <td>150</td>\n",
       "      <td>407</td>\n",
       "      <td>0</td>\n",
       "      <td>2</td>\n",
       "      <td>154</td>\n",
       "      <td>0</td>\n",
       "      <td>4.0</td>\n",
       "      <td>2</td>\n",
       "      <td>3</td>\n",
       "      <td>7</td>\n",
       "      <td>Presence</td>\n",
       "    </tr>\n",
       "  </tbody>\n",
       "</table>\n",
       "</div>"
      ],
      "text/plain": [
       "   Age  Sex  Chest pain type   BP  Cholesterol  FBS over 120  EKG results  \\\n",
       "0   70    1                4  130          322             0            2   \n",
       "1   67    0                3  115          564             0            2   \n",
       "2   57    1                2  124          261             0            0   \n",
       "3   64    1                4  128          263             0            0   \n",
       "4   74    0                2  120          269             0            2   \n",
       "5   65    1                4  120          177             0            0   \n",
       "6   56    1                3  130          256             1            2   \n",
       "7   59    1                4  110          239             0            2   \n",
       "8   60    1                4  140          293             0            2   \n",
       "9   63    0                4  150          407             0            2   \n",
       "\n",
       "   Max HR  Exercise angina  ST depression  Slope of ST  \\\n",
       "0     109                0            2.4            2   \n",
       "1     160                0            1.6            2   \n",
       "2     141                0            0.3            1   \n",
       "3     105                1            0.2            2   \n",
       "4     121                1            0.2            1   \n",
       "5     140                0            0.4            1   \n",
       "6     142                1            0.6            2   \n",
       "7     142                1            1.2            2   \n",
       "8     170                0            1.2            2   \n",
       "9     154                0            4.0            2   \n",
       "\n",
       "   Number of vessels fluro  Thallium Heart Disease  \n",
       "0                        3         3      Presence  \n",
       "1                        0         7       Absence  \n",
       "2                        0         7      Presence  \n",
       "3                        1         7       Absence  \n",
       "4                        1         3       Absence  \n",
       "5                        0         7       Absence  \n",
       "6                        1         6      Presence  \n",
       "7                        1         7      Presence  \n",
       "8                        2         7      Presence  \n",
       "9                        3         7      Presence  "
      ]
     },
     "execution_count": 2,
     "metadata": {}
],
   "source": [
    "dataframe=pd.read_csv(\"E:/7th sem/ibm/Heart_Disease_Prediction.csv\")\n",
    "dataframe.head(10)"
   ]
  },
  {
   "cell_type": "code",
   "execution_count": 3,
   "id": "917b0fdd",
   "metadata": {},
   "outputs": [],
   "source": [
    "x = dataframe.iloc[ : , :-1].values\n",
    "y = dataframe.iloc[ : , -1].values"
   ]
  }
: 4,
   "id": "836a91aa",
   "metadata": {}
: [],
   "source": [
    "X_train, X_test,y_train, y_test=train_test_split(x,y,test_size=0.25,random_state=40)"
   ]
  },
  {
   "cell_type": "code",
   "execution_count": 5,
   "id": "ec75733f",
   "metadata": {},
   "outputs": [
    {
     "name": "stdout",
     "output_type": "stream",
     "text": [
      "              precision    recall  f1-score   support\n",
      "\n",
      "     Absence       0.87      1.00      0.93        40\n",
      "    Presence       1.00      0.79      0.88        28\n",
      "\n",
      "    accuracy                           0.91        68\n",
      "   macro avg       0.93      0.89      0.91        68\n",
      "weighted avg       0.92      0.91      0.91        68\n",
      "\n",
      "Testing Accuracy for Decision Tree: 0.9117647058823529\n",
      "Testing Sensitivity for Decision Tree: 0.8695652173913043\n",
      "Testing Specificity for Decision Tree: 1.0\n",
      "Testing Precision for Decision Tree: 1.0\n"
     ]
    },
    {
     "data": {
      "image/png": "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\n",
      "text/plain": [
       "<Figure size 640x480 with 2 Axes>"
      ]
     },
     "metadata": {},
     "output_type": "display_data"
    }
   ],
   "source": [
    "from sklearn.model_selection import RandomizedSearchCV\n",
    "from sklearn.tree import DecisionTreeClassifier\n",
    "\n",
    "tree_model = DecisionTreeClassifier(max_depth=5,criterion='entropy')\n",
    "cv_scores = cross_val_score(tree_model, x, y, cv=10, scoring='accuracy')\n",
    "m=tree_model.fit(x, y)\n",
    "prediction=m.predict(X_test)\n",
    "cm= confusion_matrix(y_test,prediction)\n",
    "sns.heatmap(cm, annot=True,cmap='winter',linewidths=0.3, linecolor='black',annot_kws={\"size\": 20})\n",
    "print(classification_report(y_test, prediction))\n",
    "\n",
    "TP=cm[0][0]\n",
    "TN=cm[1][1]\n",
    "FN=cm[1][0]\n",
    "FP=cm[0][1]\n",
    "print('Testing Accuracy for Decision Tree:',(TP+TN)/(TP+TN+FN+FP))\n",
    "print('Testing Sensitivity for Decision Tree:',(TP/(TP+FN)))\n",
    "print('Testing Specificity for Decision Tree:',(TN/(TN+FP)))\n",
    "print('Testing Precision for Decision Tree:',(TP/(TP+FP)))\n"
   ]
  }
: 9,
   "id": "f26e4462",
   "metadata": {}
: [
    {
     "name": "stdout",
     "output_type": "stream",
     "text": [
      "Fitting 10 folds for each of 10 candidates, totalling 100 fits\n"
     ]
    }
: [
       "RandomizedSearchCV(cv=10, estimator=DecisionTreeClassifier(),\n",
       "                   param_distributions={'criterion': ('gini', 'entropy'),\n",
       "                                        'max_depth': (3, 5, 7, 9, 10),\n",
       "                                        'max_features': ('auto', 'sqrt',\n",
       "                                                         'log2'),\n",
       "                                        'min_samples_split': (2, 4, 6)},\n",
       "                   verbose=True)"
      ]
     },
     "execution_count": 9,
     "metadata": {}
],
   "source": [
    "from sklearn.model_selection import RandomizedSearchCV\n",
    "from sklearn.tree import DecisionTreeClassifier\n",
    "parameters={\n",
    "    'criterion':('gini','entropy'),\n",
    "    'max_depth':(3,5,7,9,10),\n",
    "    'max_features':('auto','sqrt','log2'),\n",
    "    'min_samples_split': (2,4,6)\n",
    "}\n",
    "dt_grid = RandomizedSearchCV(DecisionTreeClassifier(), param_distributions = parameters, cv=10, verbose=True)\n",
    "dt_grid.fit(X_train,y_train)"
   ]
  },
  {
   "cell_type": "code",
   "execution_count": 10,
   "id": "5dd0f3ba",
   "metadata": {},
   "outputs": [
    {
     "data": {
      "text/plain": [
       "DecisionTreeClassifier(max_depth=7, max_features='sqrt', min_samples_split=6)"
      ]
     },
     "execution_count": 10,
     "metadata": {},
     "output_type": "execute_result"
    }
   ],
   "source": [
    "dt_grid.best_estimator_"
   ]
  }
: 11,
   "id": "1b9656cc",
   "metadata": {}
: [
    {
     "name": "stdout",
     "output_type": "stream",
     "text": [
      "Fold:1, Train set: 243, Test set:27\n",
      "Fold:2, Train set: 243, Test set:27\n",
      "Fold:3, Train set: 243, Test set:27\n",
      "Fold:4, Train set: 243, Test set:27\n",
      "Fold:5, Train set: 243, Test set:27\n",
      "Fold:6, Train set: 243, Test set:27\n",
      "Fold:7, Train set: 243, Test set:27\n",
      "Fold:8, Train set: 243, Test set:27\n",
      "Fold:9, Train set: 243, Test set:27\n",
      "Fold:10, Train set: 243, Test set:27\n"
     ]
    }
],
   "source": [
    "kf =KFold(n_splits=10, shuffle=True, random_state=42)\n",
    "\n",
    "cnt = 1\n",
    "for train_index, test_index in kf.split(x, y):\n",
    "    print(f'Fold:{cnt}, Train set: {len(train_index)}, Test set:{len(test_index)}')\n",
    "    cnt += 1"
   ]
  },
  {
   "cell_type": "code",
   "execution_count": 12,
   "id": "74d526c9",
   "metadata": {},
   "outputs": [],
   "source": [
    "def rmse(score):\n",
    "    rmse = np.sqrt(-score)\n",
    "    print(f'rmse= {\"{:.2f}\".format(rmse)}')"
   ]
  }
: 13,
   "id": "63d371f4",
   "metadata": {}
: [
    {
     "name": "stdout",
     "output_type": "stream",
     "text": [
      "Scores for each fold: [nan nan nan nan nan nan nan nan nan nan]\n",
      "rmse= nan\n"
     ]
    }
: [
      "C:\\Users\\Basker\\AppData\\Local\\Programs\\Python\\Python37\\lib\\site-packages\\sklearn\\model_selection\\_validation.py:372: FitFailedWarning: \n",
      "10 fits failed out of a total of 10.\n",
      "The score on these train-test partitions for these parameters will be set to nan.\n",
      "If these failures are not expected, you can try to debug them by setting error_score='raise'.\n",
      "\n",
      "Below are more details about the failures:\n",
      "--------------------------------------------------------------------------------\n",
      "9 fits failed with the following error:\n",
      "Traceback (most recent call last):\n",
      "  File \"C:\\Users\\Basker\\AppData\\Local\\Programs\\Python\\Python37\\lib\\site-packages\\sklearn\\model_selection\\_validation.py\", line 680, in _fit_and_score\n",
      "    estimator.fit(X_train, y_train, **fit_params)\n",
      "  File \"C:\\Users\\Basker\\AppData\\Local\\Programs\\Python\\Python37\\lib\\site-packages\\sklearn\\tree\\_classes.py\", line 1320, in fit\n",
      "    X_idx_sorted=X_idx_sorted,\n",
      "  File \"C:\\Users\\Basker\\AppData\\Local\\Programs\\Python\\Python37\\lib\\site-packages\\sklearn\\tree\\_classes.py\", line 227, in fit\n",
      "    y = np.ascontiguousarray(y, dtype=DOUBLE)\n",
      "ValueError: could not convert string to float: 'Presence'\n",
      "\n",
      "--------------------------------------------------------------------------------\n",
      "1 fits failed with the following error:\n",
      "Traceback (most recent call last):\n",
      "  File \"C:\\Users\\Basker\\AppData\\Local\\Programs\\Python\\Python37\\lib\\site-packages\\sklearn\\model_selection\\_validation.py\", line 680, in _fit_and_score\n",
      "    estimator.fit(X_train, y_train, **fit_params)\n",
      "  File \"C:\\Users\\Basker\\AppData\\Local\\Programs\\Python\\Python37\\lib\\site-packages\\sklearn\\tree\\_classes.py\", line 1320, in fit\n",
      "    X_idx_sorted=X_idx_sorted,\n",
      "  File \"C:\\Users\\Basker\\AppData\\Local\\Programs\\Python\\Python37\\lib\\site-packages\\sklearn\\tree\\_classes.py\", line 227, in fit\n",
      "    y = np.ascontiguousarray(y, dtype=DOUBLE)\n",
      "ValueError: could not convert string to float: 'Absence'\n",
      "\n",
      "  warnings.warn(some_fits_failed_message, FitFailedWarning)\n"
     ]
    }
   ],
   "source": [
    "score = cross_val_score(tree.DecisionTreeRegressor(random_state= 42), x, y, cv=kf, scoring=\"neg_mean_squared_error\")\n",
    "print(f'Scores for each fold: {score}')\n",
    "rmse(score.mean())"
   ]
  },
  {
   "cell_type": "code",
   "execution_count": 14,
   "id": "b6570e2e",
   "metadata": {},
   "outputs": [
    {
     "name": "stdout",
     "output_type": "stream",
     "text": [
      "For max depth: 1\n",
      "rmse= nan\n",
      "For max depth: 2\n",
      "rmse= nan\n",
      "For max depth: 3\n",
      "rmse= nan\n",
      "For max depth: 4\n",
      "rmse= nan\n",
      "For max depth: 5\n",
      "rmse= nan\n",
      "For max depth: 6\n",
      "rmse= nan\n",
      "For max depth: 7\n",
      "rmse= nan\n",
      "For max depth: 8\n",
      "rmse= nan\n",
      "For max depth: 9\n",
      "rmse= nan\n",
      "For max depth: 10\n",
      "rmse= nan\n"
     ]
    },
    {
     "name": "stderr",
     "output_type": "stream",
     "text": [
      "C:\\Users\\Basker\\AppData\\Local\\Programs\\Python\\Python37\\lib\\site-packages\\sklearn\\model_selection\\_validation.py:372: FitFailedWarning: \n",
      "10 fits failed out of a total of 10.\n",
      "The score on these train-test partitions for these parameters will be set to nan.\n",
      "If these failures are not expected, you can try to debug them by setting error_score='raise'.\n",
      "\n",
      "Below are more details about the failures:\n",
      "--------------------------------------------------------------------------------\n",
      "9 fits failed with the following error:\n",
      "Traceback (most recent call last):\n",
      "  File \"C:\\Users\\Basker\\AppData\\Local\\Programs\\Python\\Python37\\lib\\site-packages\\sklearn\\model_selection\\_validation.py\", line 680, in _fit_and_score\n",
      "    estimator.fit(X_train, y_train, **fit_params)\n",
      "  File \"C:\\Users\\Basker\\AppData\\Local\\Programs\\Python\\Python37\\lib\\site-packages\\sklearn\\tree\\_classes.py\", line 1320, in fit\n",
      "    X_idx_sorted=X_idx_sorted,\n",
      "  File \"C:\\Users\\Basker\\AppData\\Local\\Programs\\Python\\Python37\\lib\\site-packages\\sklearn\\tree\\_classes.py\", line 227, in fit\n",
      "    y = np.ascontiguousarray(y, dtype=DOUBLE)\n",
      "ValueError: could not convert string to float: 'Presence'\n",
      "\n",
      "--------------------------------------------------------------------------------\n",
      "1 fits failed with the following error:\n",
      "Traceback (most recent call last):\n",
      "  File \"C:\\Users\\Basker\\AppData\\Local\\Programs\\Python\\Python37\\lib\\site-packages\\sklearn\\model_selection\\_validation.py\", line 680, in _fit_and_score\n",
      "    estimator.fit(X_train, y_train, **fit_params)\n",
      "  File \"C:\\Users\\Basker\\AppData\\Local\\Programs\\Python\\Python37\\lib\\site-packages\\sklearn\\tree\\_classes.py\", line 1320, in fit\n",
      "    X_idx_sorted=X_idx_sorted,\n",
      "  File \"C:\\Users\\Basker\\AppData\\Local\\Programs\\Python\\Python37\\lib\\site-packages\\sklearn\\tree\\_classes.py\", line 227, in fit\n",
      "    y = np.ascontiguousarray(y, dtype=DOUBLE)\n",
      "ValueError: could not convert string to float: 'Absence'\n",
      "\n",
      "  warnings.warn(some_fits_failed_message, FitFailedWarning)\n",
      "C:\\Users\\Basker\\AppData\\Local\\Programs\\Python\\Python37\\lib\\site-packages\\sklearn\\model_selection\\_validation.py:372: FitFailedWarning: \n",
      "10 fits failed out of a total of 10.\n",
      "The score on these train-test partitions for these parameters will be set to nan.\n",
      "If these failures are not expected, you can try to debug them by setting error_score='raise'.\n",
      "\n",
      "Below are more details about the failures:\n",
      "--------------------------------------------------------------------------------\n",
      "9 fits failed with the following error:\n",
      "Traceback (most recent call last):\n",
      "  File \"C:\\Users\\Basker\\AppData\\Local\\Programs\\Python\\Python37\\lib\\site-packages\\sklearn\\model_selection\\_validation.py\", line 680, in _fit_and_score\n",
      "    estimator.fit(X_train, y_train, **fit_params)\n",
      "  File \"C:\\Users\\Basker\\AppData\\Local\\Programs\\Python\\Python37\\lib\\site-packages\\sklearn\\tree\\_classes.py\", line 1320, in fit\n",
      "    X_idx_sorted=X_idx_sorted,\n",
      "  File \"C:\\Users\\Basker\\AppData\\Local\\Programs\\Python\\Python37\\lib\\site-packages\\sklearn\\tree\\_classes.py\", line 227, in fit\n",
      "    y = np.ascontiguousarray(y, dtype=DOUBLE)\n",
      "ValueError: could not convert string to float: 'Presence'\n",
      "\n",
      "--------------------------------------------------------------------------------\n",
      "1 fits failed with the following error:\n",
      "Traceback (most recent call last):\n",
      "  File \"C:\\Users\\Basker\\AppData\\Local\\Programs\\Python\\Python37\\lib\\site-packages\\sklearn\\model_selection\\_validation.py\", line 680, in _fit_and_score\n",
      "    estimator.fit(X_train, y_train, **fit_params)\n",
      "  File \"C:\\Users\\Basker\\AppData\\Local\\Programs\\Python\\Python37\\lib\\site-packages\\sklearn\\tree\\_classes.py\", line 1320, in fit\n",
      "    X_idx_sorted=X_idx_sorted,\n",
      "  File \"C:\\Users\\Basker\\AppData\\Local\\Programs\\Python\\Python37\\lib\\site-packages\\sklearn\\tree\\_classes.py\", line 227, in fit\n",
      "    y = np.ascontiguousarray(y, dtype=DOUBLE)\n",
      "ValueError: could not convert string to float: 'Absence'\n",
      "\n",
      "  warnings.warn(some_fits_failed_message, FitFailedWarning)\n",
      "C:\\Users\\Basker\\AppData\\Local\\Programs\\Python\\Python37\\lib\\site-packages\\sklearn\\model_selection\\_validation.py:372: FitFailedWarning: \n",
      "10 fits failed out of a total of 10.\n",
      "The score on these train-test partitions for these parameters will be set to nan.\n",
      "If these failures are not expected, you can try to debug them by setting error_score='raise'.\n",
      "\n",
      "Below are more details about the failures:\n",
      "--------------------------------------------------------------------------------\n",
      "9 fits failed with the following error:\n",
      "Traceback (most recent call last):\n",
      "  File \"C:\\Users\\Basker\\AppData\\Local\\Programs\\Python\\Python37\\lib\\site-packages\\sklearn\\model_selection\\_validation.py\", line 680, in _fit_and_score\n",
      "    estimator.fit(X_train, y_train, **fit_params)\n",
      "  File \"C:\\Users\\Basker\\AppData\\Local\\Programs\\Python\\Python37\\lib\\site-packages\\sklearn\\tree\\_classes.py\", line 1320, in fit\n",
      "    X_idx_sorted=X_idx_sorted,\n",
      "  File \"C:\\Users\\Basker\\AppData\\Local\\Programs\\Python\\Python37\\lib\\site-packages\\sklearn\\tree\\_classes.py\", line 227, in fit\n",
      "    y = np.ascontiguousarray(y, dtype=DOUBLE)\n",
      "ValueError: could not convert string to float: 'Presence'\n",
      "\n",
      "--------------------------------------------------------------------------------\n",
      "1 fits failed with the following error:\n",
      "Traceback (most recent call last):\n",
      "  File \"C:\\Users\\Basker\\AppData\\Local\\Programs\\Python\\Python37\\lib\\site-packages\\sklearn\\model_selection\\_validation.py\", line 680, in _fit_and_score\n",
      "    estimator.fit(X_train, y_train, **fit_params)\n",
      "  File \"C:\\Users\\Basker\\AppData\\Local\\Programs\\Python\\Python37\\lib\\site-packages\\sklearn\\tree\\_classes.py\", line 1320, in fit\n",
      "    X_idx_sorted=X_idx_sorted,\n",
      "  File \"C:\\Users\\Basker\\AppData\\Local\\Programs\\Python\\Python37\\lib\\site-packages\\sklearn\\tree\\_classes.py\", line 227, in fit\n",
      "    y = np.ascontiguousarray(y, dtype=DOUBLE)\n",
      "ValueError: could not convert string to float: 'Absence'\n",
      "\n",
      "  warnings.warn(some_fits_failed_message, FitFailedWarning)\n",
      "C:\\Users\\Basker\\AppData\\Local\\Programs\\Python\\Python37\\lib\\site-packages\\sklearn\\model_selection\\_validation.py:372: FitFailedWarning: \n",
      "10 fits failed out of a total of 10.\n",
      "The score on these train-test partitions for these parameters will be set to nan.\n",
      "If these failures are not expected, you can try to debug them by setting error_score='raise'.\n",
      "\n",
      "Below are more details about the failures:\n",
      "--------------------------------------------------------------------------------\n",
      "9 fits failed with the following error:\n",
      "Traceback (most recent call last):\n",
      "  File \"C:\\Users\\Basker\\AppData\\Local\\Programs\\Python\\Python37\\lib\\site-packages\\sklearn\\model_selection\\_validation.py\", line 680, in _fit_and_score\n",
      "    estimator.fit(X_train, y_train, **fit_params)\n",
      "  File \"C:\\Users\\Basker\\AppData\\Local\\Programs\\Python\\Python37\\lib\\site-packages\\sklearn\\tree\\_classes.py\", line 1320, in fit\n",
      "    X_idx_sorted=X_idx_sorted,\n",
      "  File \"C:\\Users\\Basker\\AppData\\Local\\Programs\\Python\\Python37\\lib\\site-packages\\sklearn\\tree\\_classes.py\", line 227, in fit\n",
      "    y = np.ascontiguousarray(y, dtype=DOUBLE)\n",
      "ValueError: could not convert string to float: 'Presence'\n",
      "\n",
      "--------------------------------------------------------------------------------\n",
      "1 fits failed with the following error:\n",
      "Traceback (most recent call last):\n",
      "  File \"C:\\Users\\Basker\\AppData\\Local\\Programs\\Python\\Python37\\lib\\site-packages\\sklearn\\model_selection\\_validation.py\", line 680, in _fit_and_score\n",
      "    estimator.fit(X_train, y_train, **fit_params)\n",
      "  File \"C:\\Users\\Basker\\AppData\\Local\\Programs\\Python\\Python37\\lib\\site-packages\\sklearn\\tree\\_classes.py\", line 1320, in fit\n",
      "    X_idx_sorted=X_idx_sorted,\n",
      "  File \"C:\\Users\\Basker\\AppData\\Local\\Programs\\Python\\Python37\\lib\\site-packages\\sklearn\\tree\\_classes.py\", line 227, in fit\n",
      "    y = np.ascontiguousarray(y, dtype=DOUBLE)\n",
      "ValueError: could not convert string to float: 'Absence'\n",
      "\n",
      "  warnings.warn(some_fits_failed_message, FitFailedWarning)\n",
      "C:\\Users\\Basker\\AppData\\Local\\Programs\\Python\\Python37\\lib\\site-packages\\sklearn\\model_selection\\_validation.py:372: FitFailedWarning: \n",
      "10 fits failed out of a total of 10.\n",
      "The score on these train-test partitions for these parameters will be set to nan.\n",
      "If these failures are not expected, you can try to debug them by setting error_score='raise'.\n",
      "\n",
      "Below are more details about the failures:\n",
      "--------------------------------------------------------------------------------\n",
      "9 fits failed with the following error:\n",
      "Traceback (most recent call last):\n",
      "  File \"C:\\Users\\Basker\\AppData\\Local\\Programs\\Python\\Python37\\lib\\site-packages\\sklearn\\model_selection\\_validation.py\", line 680, in _fit_and_score\n",
      "    estimator.fit(X_train, y_train, **fit_params)\n",
      "  File \"C:\\Users\\Basker\\AppData\\Local\\Programs\\Python\\Python37\\lib\\site-packages\\sklearn\\tree\\_classes.py\", line 1320, in fit\n",
      "    X_idx_sorted=X_idx_sorted,\n",
      "  File \"C:\\Users\\Basker\\AppData\\Local\\Programs\\Python\\Python37\\lib\\site-packages\\sklearn\\tree\\_classes.py\", line 227, in fit\n",
      "    y = np.ascontiguousarray(y, dtype=DOUBLE)\n",
      "ValueError: could not convert string to float: 'Presence'\n",
      "\n",
      "--------------------------------------------------------------------------------\n",
      "1 fits failed with the following error:\n",
      "Traceback (most recent call last):\n",
      "  File \"C:\\Users\\Basker\\AppData\\Local\\Programs\\Python\\Python37\\lib\\site-packages\\sklearn\\model_selection\\_validation.py\", line 680, in _fit_and_score\n",
      "    estimator.fit(X_train, y_train, **fit_params)\n",
      "  File \"C:\\Users\\Basker\\AppData\\Local\\Programs\\Python\\Python37\\lib\\site-packages\\sklearn\\tree\\_classes.py\", line 1320, in fit\n",
      "    X_idx_sorted=X_idx_sorted,\n",
      "  File \"C:\\Users\\Basker\\AppData\\Local\\Programs\\Python\\Python37\\lib\\site-packages\\sklearn\\tree\\_classes.py\", line 227, in fit\n",
      "    y = np.ascontiguousarray(y, dtype=DOUBLE)\n",
      "ValueError: could not convert string to float: 'Absence'\n",
      "\n",
      "  warnings.warn(some_fits_failed_message, FitFailedWarning)\n",
      "C:\\Users\\Basker\\AppData\\Local\\Programs\\Python\\Python37\\lib\\site-packages\\sklearn\\model_selection\\_validation.py:372: FitFailedWarning: \n",
      "10 fits failed out of a total of 10.\n",
      "The score on these train-test partitions for these parameters will be set to nan.\n",
      "If these failures are not expected, you can try to debug them by setting error_score='raise'.\n",
      "\n",
      "Below are more details about the failures:\n",
      "--------------------------------------------------------------------------------\n",
      "9 fits failed with the following error:\n",
      "Traceback (most recent call last):\n",
      "  File \"C:\\Users\\Basker\\AppData\\Local\\Programs\\Python\\Python37\\lib\\site-packages\\sklearn\\model_selection\\_validation.py\", line 680, in _fit_and_score\n",
      "    estimator.fit(X_train, y_train, **fit_params)\n",
      "  File \"C:\\Users\\Basker\\AppData\\Local\\Programs\\Python\\Python37\\lib\\site-packages\\sklearn\\tree\\_classes.py\", line 1320, in fit\n",
      "    X_idx_sorted=X_idx_sorted,\n",
      "  File \"C:\\Users\\Basker\\AppData\\Local\\Programs\\Python\\Python37\\lib\\site-packages\\sklearn\\tree\\_classes.py\", line 227, in fit\n",
      "    y = np.ascontiguousarray(y, dtype=DOUBLE)\n",
      "ValueError: could not convert string to float: 'Presence'\n",
      "\n",
      "--------------------------------------------------------------------------------\n",
      "1 fits failed with the following error:\n",
      "Traceback (most recent call last):\n",
      "  File \"C:\\Users\\Basker\\AppData\\Local\\Programs\\Python\\Python37\\lib\\site-packages\\sklearn\\model_selection\\_validation.py\", line 680, in _fit_and_score\n",
      "    estimator.fit(X_train, y_train, **fit_params)\n",
      "  File \"C:\\Users\\Basker\\AppData\\Local\\Programs\\Python\\Python37\\lib\\site-packages\\sklearn\\tree\\_classes.py\", line 1320, in fit\n",
      "    X_idx_sorted=X_idx_sorted,\n",
      "  File \"C:\\Users\\Basker\\AppData\\Local\\Programs\\Python\\Python37\\lib\\site-packages\\sklearn\\tree\\_classes.py\", line 227, in fit\n",
      "    y = np.ascontiguousarray(y, dtype=DOUBLE)\n",
      "ValueError: could not convert string to float: 'Absence'\n",
      "\n",
      "  warnings.warn(some_fits_failed_message, FitFailedWarning)\n",
      "C:\\Users\\Basker\\AppData\\Local\\Programs\\Python\\Python37\\lib\\site-packages\\sklearn\\model_selection\\_validation.py:372: FitFailedWarning: \n",
      "10 fits failed out of a total of 10.\n",
      "The score on these train-test partitions for these parameters will be set to nan.\n",
      "If these failures are not expected, you can try to debug them by setting error_score='raise'.\n",
      "\n",
      "Below are more details about the failures:\n",
      "--------------------------------------------------------------------------------\n",
      "9 fits failed with the following error:\n",
      "Traceback (most recent call last):\n",
      "  File \"C:\\Users\\Basker\\AppData\\Local\\Programs\\Python\\Python37\\lib\\site-packages\\sklearn\\model_selection\\_validation.py\", line 680, in _fit_and_score\n",
      "    estimator.fit(X_train, y_train, **fit_params)\n",
      "  File \"C:\\Users\\Basker\\AppData\\Local\\Programs\\Python\\Python37\\lib\\site-packages\\sklearn\\tree\\_classes.py\", line 1320, in fit\n",
      "    X_idx_sorted=X_idx_sorted,\n",
      "  File \"C:\\Users\\Basker\\AppData\\Local\\Programs\\Python\\Python37\\lib\\site-packages\\sklearn\\tree\\_classes.py\", line 227, in fit\n",
      "    y = np.ascontiguousarray(y, dtype=DOUBLE)\n",
      "ValueError: could not convert string to float: 'Presence'\n",
      "\n",
      "--------------------------------------------------------------------------------\n",
      "1 fits failed with the following error:\n",
      "Traceback (most recent call last):\n",
      "  File \"C:\\Users\\Basker\\AppData\\Local\\Programs\\Python\\Python37\\lib\\site-packages\\sklearn\\model_selection\\_validation.py\", line 680, in _fit_and_score\n",
      "    estimator.fit(X_train, y_train, **fit_params)\n",
      "  File \"C:\\Users\\Basker\\AppData\\Local\\Programs\\Python\\Python37\\lib\\site-packages\\sklearn\\tree\\_classes.py\", line 1320, in fit\n",
      "    X_idx_sorted=X_idx_sorted,\n",
      "  File \"C:\\Users\\Basker\\AppData\\Local\\Programs\\Python\\Python37\\lib\\site-packages\\sklearn\\tree\\_classes.py\", line 227, in fit\n",
      "    y = np.ascontiguousarray(y, dtype=DOUBLE)\n",
      "ValueError: could not convert string to float: 'Absence'\n",
      "\n",
      "  warnings.warn(some_fits_failed_message, FitFailedWarning)\n",
      "C:\\Users\\Basker\\AppData\\Local\\Programs\\Python\\Python37\\lib\\site-packages\\sklearn\\model_selection\\_validation.py:372: FitFailedWarning: \n",
      "10 fits failed out of a total of 10.\n",
      "The score on these train-test partitions for these parameters will be set to nan.\n",
      "If these failures are not expected, you can try to debug them by setting error_score='raise'.\n",
      "\n",
      "Below are more details about the failures:\n",
      "--------------------------------------------------------------------------------\n",
      "9 fits failed with the following error:\n",
      "Traceback (most recent call last):\n",
      "  File \"C:\\Users\\Basker\\AppData\\Local\\Programs\\Python\\Python37\\lib\\site-packages\\sklearn\\model_selection\\_validation.py\", line 680, in _fit_and_score\n",
      "    estimator.fit(X_train, y_train, **fit_params)\n",
      "  File \"C:\\Users\\Basker\\AppData\\Local\\Programs\\Python\\Python37\\lib\\site-packages\\sklearn\\tree\\_classes.py\", line 1320, in fit\n",
      "    X_idx_sorted=X_idx_sorted,\n",
      "  File \"C:\\Users\\Basker\\AppData\\Local\\Programs\\Python\\Python37\\lib\\site-packages\\sklearn\\tree\\_classes.py\", line 227, in fit\n",
      "    y = np.ascontiguousarray(y, dtype=DOUBLE)\n",
      "ValueError: could not convert string to float: 'Presence'\n",
      "\n",
      "--------------------------------------------------------------------------------\n",
      "1 fits failed with the following error:\n",
      "Traceback (most recent call last):\n",
      "  File \"C:\\Users\\Basker\\AppData\\Local\\Programs\\Python\\Python37\\lib\\site-packages\\sklearn\\model_selection\\_validation.py\", line 680, in _fit_and_score\n",
      "    estimator.fit(X_train, y_train, **fit_params)\n",
      "  File \"C:\\Users\\Basker\\AppData\\Local\\Programs\\Python\\Python37\\lib\\site-packages\\sklearn\\tree\\_classes.py\", line 1320, in fit\n",
      "    X_idx_sorted=X_idx_sorted,\n",
      "  File \"C:\\Users\\Basker\\AppData\\Local\\Programs\\Python\\Python37\\lib\\site-packages\\sklearn\\tree\\_classes.py\", line 227, in fit\n",
      "    y = np.ascontiguousarray(y, dtype=DOUBLE)\n",
      "ValueError: could not convert string to float: 'Absence'\n",
      "\n",
      "  warnings.warn(some_fits_failed_message, FitFailedWarning)\n",
      "C:\\Users\\Basker\\AppData\\Local\\Programs\\Python\\Python37\\lib\\site-packages\\sklearn\\model_selection\\_validation.py:372: FitFailedWarning: \n",
      "10 fits failed out of a total of 10.\n",
      "The score on these train-test partitions for these parameters will be set to nan.\n",
      "If these failures are not expected, you can try to debug them by setting error_score='raise'.\n",
      "\n",
      "Below are more details about the failures:\n",
      "--------------------------------------------------------------------------------\n",
      "9 fits failed with the following error:\n",
      "Traceback (most recent call last):\n",
      "  File \"C:\\Users\\Basker\\AppData\\Local\\Programs\\Python\\Python37\\lib\\site-packages\\sklearn\\model_selection\\_validation.py\", line 680, in _fit_and_score\n",
      "    estimator.fit(X_train, y_train, **fit_params)\n",
      "  File \"C:\\Users\\Basker\\AppData\\Local\\Programs\\Python\\Python37\\lib\\site-packages\\sklearn\\tree\\_classes.py\", line 1320, in fit\n",
      "    X_idx_sorted=X_idx_sorted,\n",
      "  File \"C:\\Users\\Basker\\AppData\\Local\\Programs\\Python\\Python37\\lib\\site-packages\\sklearn\\tree\\_classes.py\", line 227, in fit\n",
      "    y = np.ascontiguousarray(y, dtype=DOUBLE)\n",
      "ValueError: could not convert string to float: 'Presence'\n",
      "\n",
      "--------------------------------------------------------------------------------\n",
      "1 fits failed with the following error:\n",
      "Traceback (most recent call last):\n",
      "  File \"C:\\Users\\Basker\\AppData\\Local\\Programs\\Python\\Python37\\lib\\site-packages\\sklearn\\model_selection\\_validation.py\", line 680, in _fit_and_score\n",
      "    estimator.fit(X_train, y_train, **fit_params)\n",
      "  File \"C:\\Users\\Basker\\AppData\\Local\\Programs\\Python\\Python37\\lib\\site-packages\\sklearn\\tree\\_classes.py\", line 1320, in fit\n",
      "    X_idx_sorted=X_idx_sorted,\n",
      "  File \"C:\\Users\\Basker\\AppData\\Local\\Programs\\Python\\Python37\\lib\\site-packages\\sklearn\\tree\\_classes.py\", line 227, in fit\n",
      "    y = np.ascontiguousarray(y, dtype=DOUBLE)\n",
      "ValueError: could not convert string to float: 'Absence'\n",
      "\n",
      "  warnings.warn(some_fits_failed_message, FitFailedWarning)\n",
      "C:\\Users\\Basker\\AppData\\Local\\Programs\\Python\\Python37\\lib\\site-packages\\sklearn\\model_selection\\_validation.py:372: FitFailedWarning: \n",
      "10 fits failed out of a total of 10.\n",
      "The score on these train-test partitions for these parameters will be set to nan.\n",
      "If these failures are not expected, you can try to debug them by setting error_score='raise'.\n",
      "\n",
      "Below are more details about the failures:\n",
      "--------------------------------------------------------------------------------\n",
      "9 fits failed with the following error:\n",
      "Traceback (most recent call last):\n",
      "  File \"C:\\Users\\Basker\\AppData\\Local\\Programs\\Python\\Python37\\lib\\site-packages\\sklearn\\model_selection\\_validation.py\", line 680, in _fit_and_score\n",
      "    estimator.fit(X_train, y_train, **fit_params)\n",
      "  File \"C:\\Users\\Basker\\AppData\\Local\\Programs\\Python\\Python37\\lib\\site-packages\\sklearn\\tree\\_classes.py\", line 1320, in fit\n",
      "    X_idx_sorted=X_idx_sorted,\n",
      "  File \"C:\\Users\\Basker\\AppData\\Local\\Programs\\Python\\Python37\\lib\\site-packages\\sklearn\\tree\\_classes.py\", line 227, in fit\n",
      "    y = np.ascontiguousarray(y, dtype=DOUBLE)\n",
      "ValueError: could not convert string to float: 'Presence'\n",
      "\n",
      "--------------------------------------------------------------------------------\n",
      "1 fits failed with the following error:\n",
      "Traceback (most recent call last):\n",
      "  File \"C:\\Users\\Basker\\AppData\\Local\\Programs\\Python\\Python37\\lib\\site-packages\\sklearn\\model_selection\\_validation.py\", line 680, in _fit_and_score\n",
      "    estimator.fit(X_train, y_train, **fit_params)\n",
      "  File \"C:\\Users\\Basker\\AppData\\Local\\Programs\\Python\\Python37\\lib\\site-packages\\sklearn\\tree\\_classes.py\", line 1320, in fit\n",
      "    X_idx_sorted=X_idx_sorted,\n",
      "  File \"C:\\Users\\Basker\\AppData\\Local\\Programs\\Python\\Python37\\lib\\site-packages\\sklearn\\tree\\_classes.py\", line 227, in fit\n",
      "    y = np.ascontiguousarray(y, dtype=DOUBLE)\n",
      "ValueError: could not convert string to float: 'Absence'\n",
      "\n",
      "  warnings.warn(some_fits_failed_message, FitFailedWarning)\n"
     ]
    }
   ],
   "source": [
    "max_depth = [1,2,3,4,5,6,7,8,9,10]\n",
    "\n",
    "for val in max_depth:\n",
    "    score = cross_val_score(tree.DecisionTreeRegressor(max_depth= val, random_state= 42), x, y, cv= kf, scoring=\"neg_mean_squared_error\")\n",
    "    print(f'For max depth: {val}')\n",
    "    rmse(score.mean())"
   ]
  }
: 15,
   "id": "a71f4d32",
   "metadata": {}
: [
    {
     "name": "stdout",
     "output_type": "stream",
     "text": [
      "Scores for each fold are: [0.81481481 0.7037037  0.77777778 0.77777778 0.74074074 0.7037037\n",
      " 0.85185185 0.81481481 0.74074074 0.62962963]\n",
      "Average score: 0.76\n"
     ]
    }
AAAAAAAAAAAk0ToDgAAAAAAAAAAAADAJBG6AwAAAAAAAAAAAAAwSRUbun/5y1/W4sWLFQ6HtXLlSj3++ONj3vbEE0+UYRgj/rzpTW+awRUDAAAAAAAAAAAAAKpNRYbud9xxh6688kpdf/31evLJJ7V8+XKdeuqp2r59+6i3/+lPf6otW7aU/jzzzDOyLEtvfetbZ3jlAAAAAAAAAAAAAIBqUpGh+0033aR3v/vduuSSS3TwwQfr1ltvVTQa1be+9a1Rb9/Y2Ki2trbSn1WrVikajY4ZumcyGfX19Q37AwAAAAAAAAAAAADARFVc6J7NZvXEE0/o5JNPLm0zTVMnn3yy/vjHP47rPm677Tadd955isVio379xhtvVDweL/1ZsGDBlKwdAAAAAAAAAAAAAFBdKi507+rqkuM4am1tHba9tbVVW7du3ev3P/7443rmmWf0rne9a8zbXHPNNert7S392bBhwz6vGwAAAAAAAAAAAABQfexyL2Cq3XbbbTrssMN09NFHj3mbUCikUCg0g6sCAAAAAAAAAAAAAMxFFVfp3tTUJMuytG3btmHbt23bpra2tj1+byKR0I9+9CO9853vnM4lAgAAAAAAAAAAAAAgqQJD92AwqCOOOEIPPPBAaZvrunrggQd07LHH7vF777zzTmUyGf3rv/7rdC8TAAAAAAAAAAAAAIDKbC9/5ZVX6qKLLtKRRx6po48+WjfffLMSiYQuueQSSdKFF16ozs5O3XjjjcO+77bbbtPZZ5+tefPmlWPZAAAAAAAAAAAAAIAqU5Gh+7nnnqsdO3bouuuu09atW7VixQrdd999am1tlSS98sorMs3hRfpr1qzRo48+ql//+tflWDIAAAAAAAAAAAAAoAoZnud55V5EufX19Skej6u3t1d1dXXlXs6ctGFXUj3JXLmXAQAAAAAAAAAAAMwZtWFbi5ti5V7GnDXeHLniZroDAAAAAAAAAAAAADBbELoDAAAAAAAAAAAAADBJhO4AAAAAAAAAAAAAAEwSoTsAAAAAAAAAAAAAAJNE6A4AAAAAAAAAAAAAwCQRugMAAAAAAAAAAAAAMEmE7gAAAAAAAAAAAAAATBKhOwAAAAAAAAAAAAAAk0ToDgAAAAAAAAAAAADAJBG6AwAAAAAAAAAAAAAwSYTuAAAAAAAAAAAAAABMEqE7AAAAAAAAAAAAAACTROgOAAAAAAAAAAAAAMAkEboDAAAAAAAAAAAAADBJhO4AAAAAAAAAAAAAAEwSoTsAAAAAAAAAAAAAAJNE6A4AAAAAAAAAAAAAwCQRugMAAAAAAAAAAAAAMEmE7gAAAAAAAAAAAAAATBKhOwAAAAAAAAAAAAAAk0ToDgAAAAAAAAAAAADAJBG6AwAAAAAAAAAAAAAwSYTuAAAAAAAAAAAAAABMEqE7AAAAAAAAAAAAAACTROgOAAAAAAAAAAAAAMAkEboDAAAAAAAAAAAAADBJhO4AAAAAAAAAAAAAAEwSoTsAAAAAAAAAAAAAAJNE6A4AAAAAAAAAAAAAwCQRugMAAAAAAAAAAAAAMEmE7gAAAAAAAAAAAAAATBKhOwAAAAAAAAAAAAAAk0ToDgAAAAAAAAAAAADAJBG6AwCqjmH4fwAAAAAAAAAAAPaVXe4FAJh+4YCpltqwasK2UjlHyWxeqayjZNZR3vHKvTxg2oUDpiJBS9GgrWjQUsg25XrSQCavgUxeiUxemZxb7mUCAAAAAAAAAIBZiNAdmMNCAVOttWHFo4HStpqQrZrQ4EM/57hKZp1CCJ9XMuvII4fHLGZbhqJBqxSyRwKWLHNkWbtlSPFIQPGI//jI5l0/hE/7Qbzj8kAAAAAAAAAAAAB7R+gOzEFB21RrXUj10eBebxuwTMUjZil4lKR0zq+CL1bEZ/IuQTwqkmGoEK5bigZsRYKWgvbkJqcEbVONdlCNMf9xk8o66s/kNJDmYhQAAAAAAAAAADA2QndgDgnaplpqQ6qPBmTsw8DqcMBSOGCVwkfX9Qpt6QsV8bm8cnkSSMy8UMBUJFAI2YO2wgFzn37X9yRSqJZvqfUfA4lsvlQJn6YVPQAAAAAAAAAAKCB0B+aAgG2opTashn0M28dimoZiIVuxPbSlT+UcueSQmELjbRM/E0zTUG04oNpwQIpLecdvRd9faEWfd7gIBQAAAAAAAACAakXoDsxiAdtQc01IjbHgtFX7jvmzx2hL71fCO0pl/WpgWnJjPKayTfxMsC1T9dFgaYRDOucMmwfP7z0AAAAAAAAAANWD0B2YhWzLUHNtSPPKELbvSbEtfUPhc9rSYywz2SZ+JhR/95tqQvI8T8msU6qET+eYBw8AAAAAAAAAwFxG6A7MIrZlqKnGD9vNMrXZnog9taVPF8L4ZDZPW/o5zjKNQrg+2Cq+XG3iZ4JhDP7et9ZJjuv5VfCFSvhsnl94AAAAAAAAAADmEkJ3YBawzMHK9tkQtu8JbennttnWJn4mWKaheCRQ+p3P5t1hregdl192AAAAAAAAAABmM0J3oIJZpqGm2qCaYqFZH7bvyd7a0qdyDtXBFWqutYmfCUHbVKMdVGPMnwefyjrqz+Q0kM4rmaUVPQAAAAAAAAAAsw2hO1CBTFNqrglpXk1oTrfhHstobenzjluohKctfblUW5v4mRIp/H+21PoXnCSyg63o0zl+yQEAAAAAAAAAqHSE7kAFMU2pqSakpioN2/fEtkzVWabqwrSlnwmG4XcgGBqyh2yr3Mua80zTUG04oNpwQIpLOcdVIpNXf6EVfd7hFxwAAAAAAAAAgEpD6A5UAMMohu1B2VZ1z7+eiN3b0nve8Lb0ySxt6ceLNvGVKWCZqo8GVR/1W9Gnc86wefBcZAIAAAAAAAAAQPkRugNlZBjSvJqgmmtChO1TwDAMRYO2osGx29Knso4ct7qTStrEz17FC02aakLyPE+JrFOqhE9lnXIvDwAAAAAAAACAqkToDpSBYUiNsaCaa0MKELZPq9Ha0mfyQ2fDO0rnnDlbMUyb+LnLMAzVhGzVhGy11kmO6/kV8Fm/Ep4uDwAAAAAAAAAAzAxCd2AGEbZXhpDtB8/1Uf/zudSWPmibQyrYLUUCFm3iq4RlGopHA4pH/QtMMnlHiYyjgXRe/Zmc3Nn5Kw0AAAAAAAAAQMUjdAdmgGFIDTG/jXzQJmyvNGO1pU/lhlfEV1pbess0BsP1oKVowGJMAUqKF5c0xvx58MlsvjQPPpmdu90dAAAAAAAAAACYaYTuwDQyDKk+GlBLbZiwfZaxLVO1lqnaCmlLT5t47KvihSUttZLrehrI5pUohPDpHGXwAAAAAAAAAABMFqE7MA0MQ4pHAmqpCxGMziF7a0ufyjnKTFF4SZt4TCfTNFQXDqguHJDiUs5x/XnwGf9P3qEMHgAAAAAAAACA8SJ0B6ZYfZSwvVqM1pbecT0ls/kJtaU3zWIVMm3iUR4By1RDLKiGQiv6dM5Rf7pQCZ/J04oeQFWojwbUEAuqP51TbyqnXJ4nPwAAAAAAAIwPoTswRYqV7eEAYXs1s0xDteHAHtvSS54iQVvRgB+y8zuDShMO+L+XzbUheZ6nRNYpVcKnsk65lwcAUyoSNNUejygW8g+NakK22uMRJbN59ST9AJ4OIAAAAAAAANgTQndgH9VFbLXWhQlOMabd29IDs4lhGKoJ2aophFF5x1Ui46g/k1Mi4yibZx48gNnJNKW2urAaY8FRR7gUu9l01EeUyOTVmyKABwAAAAAAwOgI3YFJqovYaqkNKxIkbAdQPWzLVDxqKh71uzlk8s6wefAuGTyAWaAhFlBbXXjc41xiIVuxkB/ADxQD+GRuryNkAAAAAAAAUB0I3YEJqg37le2E7QBQ6ORQY2lejd+KPpXzQ/j+Qit65sEDqCSRoKXO+sg+vY8rdv/oiIeVyDrqSWbVl8oTwAMAAAAAAFSx8ZV2zLAvf/nLWrx4scLhsFauXKnHH398j7fv6enRpZdeqvb2doVCIS1btky/+tWvZmi1qBY1YVv7tcS0uClG4A4AozAMQ9GgrZa6sPZrrtHB7XVa1BTVvJqgQoGKfMsBoEpYpqHOhoj2b6mZsvdxxfEb8xuiOqi9VoubomqIBWTydAcAAAAAAFB1Kq7S/Y477tCVV16pW2+9VStXrtTNN9+sU089VWvWrFFLS8uI22ezWb3xjW9US0uLfvKTn6izs1Pr169XfX39zC8ec1IsZKm1LqxYqOIeLgBQ0UzTUF04oLqw34o+57jDWtEzFxnAdDMMqTEWVGtdWJY5cm771P0cQ7XhgGrDAXXWe+rP5NWbzKkvnWPsBgAAAAAAQBUwPK+yGr+uXLlSRx11lG655RZJkuu6WrBggd73vvfpwx/+8Ijb33rrrfrMZz6j5557ToFAYFI/s6+vT/F4XL29vaqrq9un9WN0G3Yl1ZPMlXsZExIthO01hO0AMC3SOUeprKNM3lUm7/+dzbu0pAcwJaIhv5V8OFC+DkWeRwAPAAAAAACmV23Y1uKmWLmXMWeNN0euqDQxm83qiSee0DXXXFPaZpqmTj75ZP3xj38c9XvuvfdeHXvssbr00kt1zz33qLm5WW9/+9v1oQ99SJY1+gm2TCajTCZT+ryvr29q/yGY1SJBS611IdWGJ3cRBwBgfMIBa0QY5nmeso7rB/G5wTA+k3OZlwxgXGzLUHs8rPposNxLkWEMdvxwXT+A70vl1JvKcYERKlLANhQL2qoJ2QrYplzPk+dKjufJLfzxPMn1PDnu4Meup8Ln/sfF23KhCYB9ZRhSTchWNGTJMvyuNbu/hO7+murtfos9fzqu+xj59dHuY8/fM9GfOZ6fO+JnjuPn7H6rvf+MwY8d1+O4DAAAYAwVFbp3dXXJcRy1trYO297a2qrnnntu1O9Zu3atfvvb3+r888/Xr371K7344ov693//d+VyOV1//fWjfs+NN96oj33sY1O+fsxukaCllrpQqQ0yAGDmGYahkG0pZFtSePjX8oUwPpt3qY4HMIJhSE01IbXUhmROYyv5yTJNQ/FIQPFIQJ2up/50Xr0pvwKe5zCUi20ZqgnZioVsxUKF198p5rpeKZgvhvbFEN9zBwN6xxse4o/8vsFwv3g/PHaAuSkcMFUTtlUbDigWtGQYlfe6Xs1SWUd96Zz6Ujmlc1xdBQAAUFRRoftkuK6rlpYWff3rX5dlWTriiCO0adMmfeYznxkzdL/mmmt05ZVXlj7v6+vTggULZmrJqDCRoKmWujBhOwBUONsyZVumYqHh2z3PK4TwhSA+N/gxFXZAdagJ22qPh8vaSn4iTNNQPBpQPFqogE/n1ZPKqj+dJ0TEtLLMYshuKRayZ+QxY5qGTE1PYDa0sn545b1fZV/62PNv6wwJ9EsV+95uFfru4MUBAGaGZRqqDftdNmrCtgKWWe4lYQ8iQavQJTKsTN7xLyJM5ZXKOuVeGgAAQFlVVOje1NQky7K0bdu2Ydu3bdumtra2Ub+nvb1dgUBgWCv5gw46SFu3blU2m1UwOLKtZCgUUigUGrEd1SUc8MP2eISwHQBmM8MwhrSqH/6cXqyO3z2QzzlUxwNzQcA21B6PzOr3c0MDeMf11J/2288TwGMqmKZKlew1MxSyzyTDMGQZkiVDU/1P271Vvjekyr4Y4u+prf6ogT+BPiDJ704TDVp+NXsooEhwbj03VZOQbaml1lJLrZRzXPWlcupL55XI8D4GAABUn4oK3YPBoI444gg98MADOvvssyX5lewPPPCALrvsslG/57jjjtMPfvADua4r0/SvhH3++efV3t4+auAOhAKmWmvDikdn78lZAMD47LU6fujceKrjgVnDMKTm2pCaayqzlfxkWaah+mhQ9dGgHNcrzX8f4MQ1xsk0pVhwMGQnyJq8oYH+dHBdb7DN/pC2+ruH+Omco2TWv3AQmM1CAbNUyV4TtOfU6zd8AcvUvJqQ5tWEShcS9qXyjNIBAABVo6JCd0m68sorddFFF+nII4/U0UcfrZtvvlmJREKXXHKJJOnCCy9UZ2enbrzxRknSe9/7Xt1yyy26/PLL9b73vU8vvPCCPvnJT+r9739/Of8ZqEChgKmW2pDqo1yMAQDVbk/V8blidXxueBify3OmCKgEdRFbbfHwtMyeriSWaaghFlRDbDCA70nlqBzDMIah0jz2mpCtSIDZx7PFRNvu5x1XyZyjZMZRIuu3cea5AJWs2GmjJuTPZg/atIyvJkMvJHRdTwPZvF8Fn8rLcXnywuxnGJJpGPw+AwCGqbjQ/dxzz9WOHTt03XXXaevWrVqxYoXuu+8+tba2SpJeeeWVUkW7JC1YsED333+/PvCBD+jwww9XZ2enLr/8cn3oQx8q1z8BFSZoF8P2ACegAAB7FbBMBSy/Emco1/WUdXavjneUztGqHpgJQdtUe31YdeHq61Y0NIDPO6760nn1EsBXpVJL5kLL+GiQkL1a2JapOsssPQe6rqdUzg/gi0E83XpQbpGgVZrNzvMTikzTUF04oLpwQF69p2S2MAc+nePCZswq4YDpdxMK24oFbVmmMXieIO8qm3eVdQp/M9YOAKqS4Xk89ff19Skej6u3t1d1dXXlXs6ctGFXUj3J3Iz+zIBtqKU2rAbCdgDANMvmd2tTX6iSzztV/zYL2GeGIbXU+a3keU83XN5x1VtoQZ/IOOVeDqaBYfghVilkD1i0ZMaY0jlHiUxeyawfwhNmYboFbMOvZA8FVBP2AyhgIlJZR33pnPpSOaUZo4EKE7ANxYK2asP++7CANfGOHbsH8UM/p0oewFQJ2IYao0G11IXLvZQ5a7w5csVVugP7KmAbaq4JqTEW5MQsAGBGBG1TQdtU7W7bXdcrVcTvPkOeyx6BvYtHAmqLh2lJOwZ7yOzUnOOWWtAnCeBnLcOQwoFiyG4pxtxjTEBxdM68wufZvKtkNq9E1lEykyfQwj4zDA3OZQ/ZhVFNwORFgpYiQUutdWFl8k5pBjzvZVAOQ8dixKboOa54rkChkV9zXK8UxGccRznHo0oewF4VjxmjQf94MRqyJnVREKYHoTvmDNsy1FJL2A4AqBymaZROJO2uGL5nqY4HRggHTLXXR0aMecDYArsF8MUKeE5aV75I0CzMZR9sVQpMBf9Ef1D1Uf9zx/WGtaNnLjzGIxwwVRP257LHaBmPaRSyLTXXWmqu9d/L9Kf9OfADjNPBNCmN7Qn7HTtGO26fTtaw8wXDR2h5nleqiB8axmcd/7wBI2WA6mGZhqJBS9HCRdkRup9VNM5iYdazLUPNtSE1RoM82QAAZo2QbSlkjzyod1zPD+Rz7rAq+SzV8agCpim11oU1j4so90nAMtVUE1JTTUjZ/GAAn8oSwFeC4jxQP2S3ZFOVgBliDZmrLPkn9Iut6JMZR8msQ6tbyDKN0lz2mvDk2ikD+ypgmWqMBdUYC8pxPQ2k8+pN5dSfyRE2Yp8Ux/bUhCt7bI9hGGOeM5D8MVPFMD7jOMNa1+cdj3MHwCwWCph+yB60FQ1adBaaZQjdMWtZph+2z4sRtgMA5g7/ClZb0eDw7cUr3XdvU5/JMQsOc0N91G8lz8n9qRW0TTXXhtRcOzSAzyqV5Yz1TAkVQvaaoN8ynpAdlcIwjNIFIMUZOemcH74nMnnmwleJcld6AntjmYbi0YDi0YA8z1N/xq+A70vlOQ7CXpXehxX+zJWOQrZlyra01yr5ETPlHarkgUpiGP7juNgmPhrgeHG2I3THrGOZhppqg2qKhQjbAQBVY9iV7uHhX8sXw/hiZXxu8MCaK9xR6SJBUx31EUWDHJpMt6EBfCbvqDeVU18qRwA/xYK2qVjIKs0D5UISzCbFufCNMf/qv5zjltrRJ7N5ni/miFDAHJzNHrQ5t4JZwzCGdOxokBIZfwZ8XyqvbJ7nJ/gdUYfOZQ/a1fc+bDxV8kOD+EwhjM85LhfbAdPMtozBgD1oKRJgdM9cw5ktzBqmKTUX5lTOlasSAQCYCv5V7qZioeHbPc8bEcYXP+bqdpSbZRpqrfPf22HmhWxLLbWWWmrDSucc9RVa0KdzPDlMVMD2T5xU88ldzF0By1Q8aioe9avoHNdTMpsvVcMnmQs/K5imSiFUbTjA8xTmjGK3jva4Su9n+tJcUFhNTFP++7DCWAzaMO9d8fzB7t31pMFzCEND+ZwzGM7zmg+Mn2H4o8UiQX+sWDTIsWI1IHRHxTNNlWZSErYDADB+hmGUKtZ2bzlXPHBO5/xq10SGWc+YOY01QbXWhmibViGKzxMtdYMBfE8qpwwB/KiKFVT+if6xq4iAucif9x1Q7ZC58Kmco0TGUTKbVyLDXPhKEQlapdns0SBVVJj7hr6fyeZd9aX9CwpTXBw0pxRbMdcWunVQJTq1hp9DGCm3Wxg/NKDPOzzQUN1MU4oWAvZIIWQnz6o+hO6oWIbhh+3NtYTtAABMtYBlKmD58+3m1fiznntSWfUkCdowfSJBS531EebFVrDdA/jeQgV8NT8vWGYxZLcUo4IKGMYwDEWDdmFEiN+5ZOhc+GTWoeXzDAnY/nNVbSigmjAneVHdgrZZKuDJO6760v4c+IFMngB+FooEB+eyxxiJUVaD5xFGfs11C7Pkh86QzzP6DnNX0DYVDfpt4jlORBGhOypOMWxvqglS/QQAwAwJ2qZaasNqqQ0rlXXUnfQDeKrVMBVsy1BbXVgNsVF6GKJiFQP41jr/eaEYwM/1AK3Yhrl4cpeTJ8DE7G0ufDrHifepYBganMvOcxUwJtsy1RgLqjEWlOt66k8X5sCnc4zcqlBB21QsZKk2FFAsZHF+eJYwTUNhc3xV8tkhLeuzeZfzDqh4fqt4S7GQVbjg1FKA5yaMgtAdFcMwpHk1QTXX0GoUAIByigQtRYIRtcfD6s/k1ZPwT0pxghwTZRhSYyyo1rowFXezXKTQIq8tPhjA96SyyuVn/xNDMbgqhux0YgCm1u5z4V3XKwTwzIWfqHDALIXsNSGblsrABJmmoXg0oHg0IM/zNJDJl6rgaY1dPsWuQjVhRvfMZeOpks/sFsrnqJJHmVimMSxgZ1QPxovQHWVXPBnbXBvi6iAAACqIYRiqCwdUFw7IcT31pnLqTmaVZP47xiEWstRRH6Hybg4aGsAns/lSBfxsCeANQ4oGrVJwxSxQYGaZo8yFT+dcP4gvVMQTfvks0yjNZa8J25wzAaaQYQw+F3XWR5TM5tWXyldFV59yMwyVLnbkgkdIe6+SHxrED5snT5U8pkg4YCoStBQL2opy8Q/2AaE7ysYwpIZYUC2E7QAAVDzLNEptGTN5R73JnLqTnJDCSAHbUHtdpFTRiLmtOMu5Pe6frO5J+gF8JQVmhuFfKFBbqGanSgGoLIZhlC7mUY2/LZN3hrSkd5TJVcf7jaEXBdWGAgRRwAwqvqdpi4eVzjnqS/ndvlLZ6nj+mU7F92LFkJ33YpiooG0qaJvSHqrkc46rvOP51fGOq5zjKV/4mFESGKr4fitWuOgnFrTpzIcpQ+iOGWcYUn00oJbasP9iCQAAZpWQbamlzlJLXViJTF49qZx6klkOZKucYUhNNSG11IZkcsBalYonqzvqI0pkBivgZzqAL87bqw0XQvaAxe8kMMuEbL/CqKEwFz7vuEpkHSWzeSUyjtK5udOSPmibfjV72FZN0Ob5CqgA4YBfcdtSF1Y27/oz4FM5xmFMQDhg+tXsYZtAC9Nqb1XykuS4fhif2y2MzzmD2zmfMXcFbEOx4GDAHg6YXPiDaUPojhljGFI8ElBLXYj2HAAAzBGxQuVoRzysvlRePams+tN5TkZVmZqwrY76MO/xUFJ6bqiPaKAYwCdz09b+MRI0S21KY4RWwJxjW6biEVPxyOBc+GTOUTKTL4Xxs+VkuWmqVO1ZGw5QjABUuKBtqqkmpKaakPKOq/50Xn3pHMc8uymGWsWLHulqikpimYasCQbzxXnyeddjtvws4l+AbSoatEtBO++1MJMI3TEjasM2YTsAAHOYYRiKRwOKRwPKO26h+j2nVJb573NZ0DbVFg+XQhBgNMVwqSMeViLrqCeZVV8qv08BfLF6qhi0Uz0FVBfTNErPLVLlz4WPBK3SbHbaKgOzl22ZaogF1RALynU99WfypTb0s+XCn6ky9AKiWMjeY5gJzAYTCeazQ1vZF2bM512PYL4MTFOlOezRIF3OUH6E7pgR9dFguZcAAABmiG0NVoOkc456kjn1pLLK5Tn6nCsMQ2qp9fcxB7QYL8MYDMm8em+wAj619xPVoWKL0qCtWMiSTfUUgCEqbS58wPaf72pDAdWEuTAImItM01A8ElA8EpDn+e9r+tJ+CF9JF/1MleIM5Jqw/9wWCRKyo/qMJ5jPFwN4x1UuPxjGD62gJ5ifvFDAVCTgz2OPBve8L4ByMDyPh3hfX5/i8bh6e3tVV1dX7uUAAADMSQOZvLoT2aqsBJlL6iK22uMRWrRhynieXynWmxysFAvapmIhq1Q9RYtSAPtqOufCG0ah4rNQzc4JYKC6JbN59aX8NvQzecHPVIsErdJzG9WjwNTJFwN41w/mh86WJ5gfZBgqzWH3/+bia5TPeHNkKt0BAAAwI4oVrq7rqS+dU3cyp0SGWYizRShgqj0eVm2YVvKYWoZhqC4cUF3YrxTLux4hO4ApN9pc+FTOGdaSfiIXBYYDZilkrwnZtIwHUBIN2ooGbbXFw0rnHPWlc+pL5St+9FapsxDje4BpZVumbEuKaM8V8znHK7Syr45g3raMwYA9ZCkSYCQPZh9CdwAAAMwo0zRUHw2qPhpUznH99vPJrNKzuApkLjMMqaUupOaaEAe8mHaGYShg8XsGYPqZpqFYoZuGav1t6ZyjRMZvR5/I5oeNxrFMozSXvSZMBw4A4xMO+O2PW2qlnOMWZsDnK+LiY9syhs1lp5MVUDkmGsznhs6ZH/JxuZ9n9iQcMBUN2YoVRgSFbDoFYfYjdAcAAEDZBCxTzbUhNdf689+7k1n1JOfmHMTZqD4aUFs8TLAAAKgKxXBsXuHzbN5VKusoaJvMLwawzwKWqXk1Ic2rCclxvUIAn1N/emYCeNOUYkFGYQBzxXiC+WIYny1VyQ//PO94M/b8Ew0OBuzRIN00MDcRugMAAKAihAOW2uMRtdWFNZDJqyeZU28qV9FXZs9V4YCp9vqIakIcLgAAqlfQNqn8BDAtLNNQQyyohlhQruupP5NXX8oP4B13ag6AivOQawsdOmjVDFSfgGUqMI5gPrd7C/t8Yeb8JIP5oG0qGrQUDVqKcZEPqghn0QAAAFBRDMNQbTig2nBAHYUKkO5kVolMZc9AnAtMU2qtC2teLMgJOQAAAGAGmKaheCSgeCQgz/OUyDqlKvihYy7GIxIcnMseC9oyqSQFsBd+MD/2RYae5ynveqUwPuu4yrvDP7ZNU7GQpWjAVjRk0S0PVYvQHQAAABVraAVINu+qJ+W3n88w/33K1UcDao+HZXNwDAAAAJSFYQzOWe9QRKmso7603wFstGOgoO0HXbWhgGIhi/fyAKacYRgKWIYfpAfLvRqgshG6AwAAYFYI2qZaasNqqQ0rmfXbz/ckc1PWfrFaRYKmOuojigY5NAAAAAAqSaQw/7i1LqxM3imF77GQrVjIUsimZTMAAJWCM2sAAACYdaJBW9GgrfZ4WH3pvHqTfvtF5r+Pn2UaaouH1RjjUnUAAACg0oVsSy21hOwAAFQqQncAAADMWoYxOP/QcT31JLPqSeWUZP77HjXWBNVaG6L9JAAAAAAAADAFCN0BAAAwJ1imoXk1Ic2rCSmTd0rt57N55r8XRUOWOuIRRYJUyAAAAAAAAABThdAdAAAAc07IttRa588+TGTy6k5m1ZvKya3S/N22DLXVhdVAK3kAAAAAAABgyhG6AwAAYE6LhWzFQrY66z31pfwAfiCTr4r574YhzasJqqU2LMs0yr0cAAAAAAAAYE4idAcAAEBVMAxD8WhA8WhAecdVTyqnnmRWqezcLH+PhSx11EcUDtBKHgAAAAAAAJhOhO4AAACoOrZlqqkmpKaakNK5wvz3VFa5/Owvfw/YhtrrIopHA+VeCgAAAAAAAFAVCN0BAABQ1cIBS21xS23xsAYyeXUnsupLz77574YhNdWE1FIbkkkreQAAAAAAAGDGELoDAAAABTUhWzUhW67rqS+dU3cyp8QsmP9eG7bVXh9WyKaVPAAAAAAAADDTCN0BAACA3ZimofpoUPXRoHKO67efT2aVzlVW+XvQNtVeH1ZdmFbyAAAAAAAAQLkQugMAAAB7ELBMNdeG1Fzrz3/vTmbVk8wp75Sv/N0wpJbCmgyDVvIAAAAAAABAORG6AwAAAOMUDlhqj0fUVufPf+9J5tSbys1o+/l4JKC2eFhB25y5HwoAAAAAAABgTITuAAAAwAQZhqHacEC14YA6XE99qZy6k1klMs60/cxQwFR7PKxaWskDAAAAAAAAFYXQHQAAANgHlmmoIRZUQyyobN5VT8pvP5+Zovnvpim11IbVVBOklTwAAAAAAABQgQjdAQAAgCkStE211IbVUhtWMuu3n+9J5uS4k+s/Xx/1W8kHLFrJAwAAAAAAAJWK0B0AAACYBtGgrWjQVns8rL50Xr3JnPrS45v/Hg6Y6qiPKBbi7ToAAAAAAABQ6TiLBwAAAEwjwzAUjwQUjwTkuJ56kln1pHJKjjL/3TSl1rqw5sVoJQ8AAAAAAADMFoTuAAAAwAyxTEPzakKaVxNSJu+U2s9n864aYgG11YVl00oeAAAAAAAAmFUI3QEAAIAyCNmWWusstdaFlXNc5rYDAAAAAAAAsxRn9gAAAIAyI3AHAAAAAAAAZi/O7gEAAAAAAAAAAAAAMEmE7gAAAAAAAAAAAAAATBKhOwAAAAAAAAAAAAAAk0ToDgAAAAAAAAAAAADAJBG6AwAAAAAAAAAAAAAwSYTuAAAAAAAAAAAAAABMEqE7AAAAAAAAAAAAAACTROgOAAAAAAAAAAAAAMAkEboDAAAAAAAAAAAAADBJhO4AAAAAAAAAAAAAAEwSoTsAAAAAAAAAAAAAAJNE6A4AAAAAAAAAAAAAwCQRugMAAAAAAAAAAAAAMEmE7gAAAAAAAAAAAAAATBKhOwAAAAAAAAAAAAAAk2SXewGVwPM8SVJfX1+ZVwIAAAAAAAAAAAAAqATF/LiYJ4+F0F1Sf3+/JGnBggVlXgkAAAAAAAAAAAAAoJL09/crHo+P+XXD21ssXwVc19XmzZtVW1srwzDKvZw5p6+vTwsWLNCGDRtUV1dX7uVULfZDZWA/VAb2Q2VgP1QG9kP5sQ8qA/uhMrAfKgP7oTKwHyoD+6EysB/Kj31QGdgPlYH9UBnYD5WB/VAZ2A/Ty/M89ff3q6OjQ6Y59uR2Kt0lmaap+fPnl3sZc15dXR0P9grAfqgM7IfKwH6oDOyHysB+KD/2QWVgP1QG9kNlYD9UBvZDZWA/VAb2Q/mxDyoD+6EysB8qA/uhMrAfKgP7YfrsqcK9aOw4HgAAAAAAAAAAAAAA7BGhOwAAAAAAAAAAAAAAk0TojmkXCoV0/fXXKxQKlXspVY39UBnYD5WB/VAZ2A+Vgf1QfuyDysB+qAzsh8rAfqgM7IfKwH6oDOyH8mMfVAb2Q2VgP1QG9kNlYD9UBvZDZTA8z/PKvQgAAAAAAAAAAAAAAGYjKt0BAAAAAAAAAAAAAJgkQncAAAAAAAAAAAAAACaJ0B0AAAAAAAAAAAAAgEkidAcAAAAAAAAAAAAAYJII3TFtfve73+mMM85QR0eHDMPQ3XffXe4lVaUbb7xRRx11lGpra9XS0qKzzz5ba9asKfeyqs5Xv/pVHX744aqrq1NdXZ2OPfZY/e///m+5l1XVPvWpT8kwDF1xxRXlXkpVueGGG2QYxrA/Bx54YLmXVZU2bdqkf/3Xf9W8efMUiUR02GGH6S9/+Uu5l1VVFi9ePOLxYBiGLr300nIvrao4jqNrr71WS5YsUSQS0X777aePf/zj8jyv3EurOv39/briiiu0aNEiRSIRvfa1r9Wf//znci9rTtvbMZvnebruuuvU3t6uSCSik08+WS+88EJ5FjuH7W0//PSnP9Upp5yiefPmyTAMrV69uizrnMv2tA9yuZw+9KEP6bDDDlMsFlNHR4cuvPBCbd68uXwLnqP29li44YYbdOCBByoWi6mhoUEnn3yyHnvssfIsdg6byPm897znPTIMQzfffPOMra9a7G0/XHzxxSOOI0477bTyLHYOG8/j4dlnn9WZZ56peDyuWCymo446Sq+88srML3YO29t+GO242jAMfeYznynPgueove2HgYEBXXbZZZo/f74ikYgOPvhg3XrrreVZ7By1t32wbds2XXzxxero6FA0GtVpp53G8dsMI3THtEkkElq+fLm+/OUvl3spVe3hhx/WpZdeqj/96U9atWqVcrmcTjnlFCUSiXIvrarMnz9fn/rUp/TEE0/oL3/5i97whjforLPO0t///vdyL60q/fnPf9bXvvY1HX744eVeSlU65JBDtGXLltKfRx99tNxLqjrd3d067rjjFAgE9L//+7/6xz/+oc997nNqaGgo99Kqyp///Odhj4VVq1ZJkt761reWeWXV5dOf/rS++tWv6pZbbtGzzz6rT3/60/rv//5vfelLXyr30qrOu971Lq1atUrf+9739PTTT+uUU07RySefrE2bNpV7aXPW3o7Z/vu//1tf/OIXdeutt+qxxx5TLBbTqaeeqnQ6PcMrndv2th8SiYRe97rX6dOf/vQMr6x67GkfJJNJPfnkk7r22mv15JNP6qc//anWrFmjM888swwrndv29lhYtmyZbrnlFj399NN69NFHtXjxYp1yyinasWPHDK90bhvv+byf/exn+tOf/qSOjo4ZWll1Gc9+OO2004YdT/zwhz+cwRVWh73th5deekmve93rdOCBB+qhhx7SU089pWuvvVbhcHiGVzq37W0/DH0cbNmyRd/61rdkGIbe8pa3zPBK57a97Ycrr7xS9913n77//e/r2Wef1RVXXKHLLrtM99577wyvdO7a0z7wPE9nn3221q5dq3vuuUd//etftWjRIp188slkQTPJA2aAJO9nP/tZuZcBz/O2b9/uSfIefvjhci+l6jU0NHjf/OY3y72MqtPf3++96lWv8latWuWdcMIJ3uWXX17uJVWV66+/3lu+fHm5l1H1PvShD3mve93ryr0M7Obyyy/39ttvP8913XIvpaq86U1v8t7xjncM2/bmN7/ZO//888u0ouqUTCY9y7K8X/ziF8O2v+Y1r/E+8pGPlGlV1WX3YzbXdb22tjbvM5/5TGlbT0+PFwqFvB/+8IdlWGF12NOx87p16zxJ3l//+tcZXVO1Gc/5i8cff9yT5K1fv35mFlWFxrMfent7PUneb37zm5lZVBUaaz9s3LjR6+zs9J555hlv0aJF3uc///kZX1s1GW0/XHTRRd5ZZ51VlvVUq9H2w7nnnuv967/+a3kWVKXG8/pw1llneW94wxtmZkFVarT9cMghh3j/+Z//OWwbx3PTZ/d9sGbNGk+S98wzz5S2OY7jNTc3e9/4xjfKsMLqRKU7UGV6e3slSY2NjWVeSfVyHEc/+tGPlEgkdOyxx5Z7OVXn0ksv1Zve9CadfPLJ5V5K1XrhhRfU0dGhpUuX6vzzz6ftWhnce++9OvLII/XWt75VLS0tevWrX61vfOMb5V5WVctms/r+97+vd7zjHTIMo9zLqSqvfe1r9cADD+j555+XJP3tb3/To48+qtNPP73MK6su+XxejuOMqAqKRCJ0RCmTdevWaevWrcPeM8Xjca1cuVJ//OMfy7gyoPx6e3tlGIbq6+vLvZSqlc1m9fWvf13xeFzLly8v93Kqiuu6uuCCC3T11VfrkEMOKfdyqtpDDz2klpYWHXDAAXrve9+rnTt3lntJVcV1Xf3yl7/UsmXLdOqpp6qlpUUrV65kxGqZbdu2Tb/85S/1zne+s9xLqTqvfe1rde+992rTpk3yPE8PPvignn/+eZ1yyinlXlpVyGQykjTsmNo0TYVCIY6pZxChO1BFXNfVFVdcoeOOO06HHnpouZdTdZ5++mnV1NQoFArpPe95j372s5/p4IMPLveyqsqPfvQjPfnkk7rxxhvLvZSqtXLlSn3729/Wfffdp69+9atat26d/umf/kn9/f3lXlpVWbt2rb761a/qVa96le6//369973v1fvf/3595zvfKffSqtbdd9+tnp4eXXzxxeVeStX58Ic/rPPOO08HHnigAoGAXv3qV+uKK67Q+eefX+6lVZXa2lode+yx+vjHP67NmzfLcRx9//vf1x//+Edt2bKl3MurSlu3bpUktba2Dtve2tpa+hpQjdLptD70oQ/pbW97m+rq6sq9nKrzi1/8QjU1NQqHw/r85z+vVatWqampqdzLqiqf/vSnZdu23v/+95d7KVXttNNO03e/+1098MAD+vSnP62HH35Yp59+uhzHKffSqsb27ds1MDCgT33qUzrttNP061//Wv/yL/+iN7/5zXr44YfLvbyq9Z3vfEe1tbV685vfXO6lVJ0vfelLOvjggzV//nwFg0Gddtpp+vKXv6zjjz++3EurCgceeKAWLlyoa665Rt3d3cpms/r0pz+tjRs3ckw9g+xyLwDAzLn00kv1zDPPcGVTmRxwwAFavXq1ent79ZOf/EQXXXSRHn74YYL3GbJhwwZdfvnlWrVqFbO1ymho5ejhhx+ulStXatGiRfrxj3/MVcgzyHVdHXnkkfrkJz8pSXr1q1+tZ555RrfeeqsuuuiiMq+uOt122206/fTTmYlZBj/+8Y/1P//zP/rBD36gQw45RKtXr9YVV1yhjo4OHg8z7Hvf+57e8Y53qLOzU5Zl6TWveY3e9ra36Yknnij30gBAkpTL5XTOOefI8zx99atfLfdyqtLrX/96rV69Wl1dXfrGN76hc845R4899phaWlrKvbSq8MQTT+gLX/iCnnzySbozldl5551X+viwww7T4Ycfrv32208PPfSQTjrppDKurHq4ritJOuuss/SBD3xAkrRixQr94Q9/0K233qoTTjihnMurWt/61rd0/vnnc+6vDL70pS/pT3/6k+69914tWrRIv/vd73TppZeqo6ODjqMzIBAI6Kc//ane+c53qrGxUZZl6eSTT9bpp58uz/PKvbyqQaU7UCUuu+wy/eIXv9CDDz6o+fPnl3s5VSkYDGr//ffXEUccoRtvvFHLly/XF77whXIvq2o88cQT2r59u17zmtfItm3Ztq2HH35YX/ziF2XbNleDl0l9fb2WLVumF198sdxLqSrt7e0jLvg56KCDaPVfJuvXr9dvfvMbvetd7yr3UqrS1VdfXap2P+yww3TBBRfoAx/4AF1RymC//fbTww8/rIGBAW3YsEGPP/64crmcli5dWu6lVaW2tjZJfovOobZt21b6GlBNioH7+vXrtWrVKqrcyyQWi2n//ffXMccco9tuu022beu2224r97KqxiOPPKLt27dr4cKFpePq9evX66qrrtLixYvLvbyqtnTpUjU1NXFsPYOamppk2zbH1hXkkUce0Zo1azi2LoNUKqX/+I//0E033aQzzjhDhx9+uC677DKde+65+uxnP1vu5VWNI444QqtXr1ZPT4+2bNmi++67Tzt37uSYegYRugNznOd5uuyyy/Szn/1Mv/3tb7VkyZJyLwkFruuWZq1g+p100kl6+umntXr16tKfI488Uueff75Wr14ty7LKvcSqNDAwoJdeeknt7e3lXkpVOe6447RmzZph255//nktWrSoTCuqbrfffrtaWlr0pje9qdxLqUrJZFKmOfywyLKsUuUKZl4sFlN7e7u6u7t1//3366yzzir3kqrSkiVL1NbWpgceeKC0ra+vT4899piOPfbYMq4MmHnFwP2FF17Qb37zG82bN6/cS0IBx9Uz64ILLtBTTz017Li6o6NDV199te6///5yL6+qbdy4UTt37uTYegYFg0EdddRRHFtXkNtuu01HHHGEli9fXu6lVJ1cLqdcLsexdYWIx+Nqbm7WCy+8oL/85S8cU88g2stj2gwMDAy7unLdunVavXq1GhsbtXDhwjKurLpceuml+sEPfqB77rlHtbW1pfmL8XhckUikzKurHtdcc41OP/10LVy4UP39/frBD36ghx56iIPSGVRbW6tDDz102LZYLKZ58+aN2I7p8//+3//TGWecoUWLFmnz5s26/vrrZVmW3va2t5V7aVXlAx/4gF772tfqk5/8pM455xw9/vjj+vrXv66vf/3r5V5a1XFdV7fffrsuuugi2TZvzcvhjDPO0H/9139p4cKFOuSQQ/TXv/5VN910k97xjneUe2lV5/7775fneTrggAP04osv6uqrr9aBBx6oSy65pNxLm7P2dsx2xRVX6BOf+IRe9apXacmSJbr22mvV0dGhs88+u3yLnoP2th927dqlV155RZs3b5ak0sn9trY2ug5MkT3tg/b2dv3f//t/9eSTT+oXv/iFHMcpHVc3NjYqGAyWa9lzzp72w7x58/Rf//VfOvPMM9Xe3q6uri59+ctf1qZNm/TWt761jKuee/b2nLT7RSeBQEBtbW064IADZnqpc9qe9kNjY6M+9rGP6S1veYva2tr00ksv6YMf/KD2339/nXrqqWVc9dyzt8fD1VdfrXPPPVfHH3+8Xv/61+u+++7Tz3/+cz300EPlW/QcNJ6coa+vT3feeac+97nPlWuZc97e9sMJJ5ygq6++WpFIRIsWLdLDDz+s7373u7rpppvKuOq5ZW/74M4771Rzc7MWLlyop59+WpdffrnOPvtsnXLKKWVcdZXxgGny4IMPepJG/LnooovKvbSqMto+kOTdfvvt5V5aVXnHO97hLVq0yAsGg15zc7N30kkneb/+9a/Lvayqd8IJJ3iXX355uZdRVc4991yvvb3dCwaDXmdnp3fuued6L774YrmXVZV+/vOfe4ceeqgXCoW8Aw880Pv6179e7iVVpfvvv9+T5K1Zs6bcS6lafX193uWXX+4tXLjQC4fD3tKlS72PfOQjXiaTKffSqs4dd9zhLV261AsGg15bW5t36aWXej09PeVe1py2t2M213W9a6+91mttbfVCoZB30kkn8Xw1Dfa2H26//fZRv3799deXdd1zyZ72wbp168Y8rn7wwQfLvfQ5ZU/7IZVKef/yL//idXR0eMFg0Gtvb/fOPPNM7/HHHy/3sueciZ7PW7Rokff5z39+RtdYDfa0H5LJpHfKKad4zc3NXiAQ8BYtWuS9+93v9rZu3VruZc8543k83Hbbbd7+++/vhcNhb/ny5d7dd99dvgXPUePZD1/72te8SCTC8cM02tt+2LJli3fxxRd7HR0dXjgc9g444ADvc5/7nOe6bnkXPofsbR984Qtf8ObPn+8FAgFv4cKF3kc/+lHObcwww/M8b9KJPQAAAAAAAAAAAAAAVYyZ7gAAAAAAAAAAAAAATBKhOwAAAAAAAAAAAAAAk0ToDgAAAAAAAAAAAADAJBG6AwAAAAAAAAAAAAAwSYTuAAAAAAAAAAAAAABMEqE7AAAAAAAAAAAAAACTROgOAAAAAAAAAAAAAMAkEboDAAAAAAAAAAAAADBJhO4AAAAAAGCPDMPQiSeeWO5lDHPiiSfKMIxyLwMAAAAAAEJ3AAAAAAD2lWEYE/qDvfv2t78twzD07W9/u9xLAQAAAABgj+xyLwAAAAAAgNnu+uuvH7Ht5ptvVm9v76hfAwAAAAAAcwehOwAAAAAA++iGG24Yse3b3/62ent7R/0aAAAAAACYO2gvDwAAAADADHn55ZdlGIYuvvhiPfvss/qXf/kXzZs3T4Zh6OWXXy7d7p577tFJJ52khoYGhcNhHXroofrsZz8rx3FGvd+J3n4s3/zmN3XooYcqHA5rwYIF+uAHP6h0Oj3m7fv7+3X99dfrkEMOUSQSUX19vU499VQ9+uijI25bnMGeTqf14Q9/WAsXLlQ4HNZBBx2kL33pS/I8r3Tbiy++WJdccokk6ZJLLtlja/5cLqcbbrhBixcvVigU0rJly/SVr3xlQv9uAAAAAAD2BZXuAAAAAADMsBdffFHHHHOMDjvsMF188cXauXOngsGgJOmaa67Rpz71KXV2durNb36z4vG4HnnkEV199dV67LHHdOeddw67r4nefiwf//jHdd1116m1tVXvfve7FQgEdMcdd+jZZ58d9fa7du3S8ccfr7///e867rjj9J73vEd9fX2655579PrXv1533nmnzj777BHfd8455+ivf/2r3vKWt0iS7rrrLr3//e/Xyy+/rM997nOSpLPPPls9PT265557dNZZZ2nFihVjrvttb3ubHn/8cZ1++umyLEs//vGPdemllyoQCOjd7373uP7tAAAAAADsC8Mbeik5AAAAAACYEosXL9b69euHVXC//PLLWrJkiSTpuuuu08c+9rFh37Nq1SqdcsopOvXUU3XXXXcpFotJkjzP07//+7/r1ltv1U9+8pNSYD3R24/lxRdf1EEHHaTW1lY9+eSTamlpkST19fXp6KOP1po1a3TCCSfooYceKn3P+eefrx/84Af6xje+oXe9612l7du3b9eRRx6pdDqtV155ReFwWJJf6f7www/rgAMO0GOPPaZ4PC5J6u3t1cqVK/X888/r8ccf15FHHinJb89/ySWX6Pbbb9fFF188Ys3F+1u5cqV+/etfq66uTpK0Zs0aHXroodpvv/303HPP7fHfDQAAAADAVKC9PAAAAAAAM6ytrU0f+chHRmy/5ZZbJElf//rXSwG6JBmGoU996lMyDEM//OEPJ337sfzgBz9QPp/XlVdeWQrcJamurk4f/ehHR9y+q6tLd9xxh97whjcMC9wlqaWlRVdffbV27Nih3/zmNyO+99prry0F7pIUj8f10Y9+VJ7n6Tvf+c5e17q7G2+8sRS4S9IBBxyg4447TmvWrFF/f/+E7w8AAAAAgImivTwAAAAAADNs+fLlpXbyQ/3pT39SLBbTt771rVG/LxKJDKvenujtx/K3v/1NkvRP//RPI7422rY///nPchxHmUxGN9xww4ivv/DCC5Kk5557Tv/8z/+81/srbvvrX/+617Xu7ogjjhixbf78+ZKknp4e1dbWTvg+AQAAAACYCEJ3AAAAAABmWGtr66jbd+3apXw+P6Lt/FCJRGLStx9Lb2+vJA2rct/TWnft2iVJ+v3vf6/f//73E/rZo91fcVtxHRMxtMq9yLb90x2O40z4/gAAAAAAmChCdwAAAAAAZphhGKNur6urk2EY6urqGtf9TPT2Yym2e9++fbsWLVo07Gvbtm0b9edK0lVXXaXPfvazE/pZ27Zt08KFC0f9GUPbzgMAAAAAMFsw0x0AAAAAgAqxcuVK7dy5s9SefapvP5bly5dLkh555JERXxtt21FHHSXDMPTHP/5xwj9rTz/j1a9+dWmbZVmSqFYHAAAAAFQ+QncAAAAAACrE+9//fknSO97xDu3cuXPE17du3apnn3120rcfy9vf/nZZlqWbbrpJ27dvL23v6+vTJz7xiRG3b2tr0znnnKM//OEP+sxnPiPP80bc5rHHHlMymRyx/eMf//iwNvK9vb36xCc+IcMwdNFFF5W2NzY2SpI2bNiw1/UDAAAAAFBOtJcHAAAAAKBCnHbaabr22mv18Y9/XPvvv79OO+00LVq0SDt37tSLL76oRx55RJ/4xCd00EEHTer2Y9l///113XXX6frrr9fhhx+uc845R7Zt66677tLhhx+uNWvWjPier3zlK1qzZo0++MEP6nvf+56OPfZY1dfXa8OGDfrLX/6iF154QVu2bFE0Gh32fcuWLdOhhx6qt7zlLZKku+66Sxs3btSVV16pI488snS7Y489VpFIRDfffLO6u7vV3NwsSfroRz+6T//HAAAAAABMNUJ3AAAAAAAqyH/+53/q+OOP1xe/+EU98MAD6unp0bx587RkyRLdcMMNOv/88/fp9mO57rrr1NHRoc9//vP62te+ppaWFp133nn6z//8zxHBueRXov/hD3/QLbfcojvuuEP/8z//I9d11dbWpuXLl+vaa69VU1PTiO/78Y9/rOuvv14//OEPtW3bNi1ZskRf/OIXddlll424/5/85Ce64YYb9I1vfEOpVEoSoTsAAAAAoPIY3mg94AAAAAAAAKbQiSeeqIcffnjUVvQAAAAAAMxmzHQHAAAAAAAAAAAAAGCSCN0BAAAAAAAAAAAAAJgkQncAAAAAAAAAAAAAACaJme4AAAAAAAAAAAAAAEwSle4AAAAAAAAAAAAAAEwSoTsAAAAAAAAAAAAAAJNE6A4AAAAAAAAAAAAAwCQRugMAAAAAAAAAAAAAMEmE7gAAAAAAAAAAAAAATBKhOwAAAAAAAAAAAAAAk0ToDgAAAAAAAAAAAADAJBG6AwAAAAAAAAAAAAAwSf8/4yLnzgAAAARJREFU+CCksJC2Vc4AAAAASUVORK5CYII=\n",
      "text/plain": [
       "<Figure size 2500x500 with 1 Axes>"
      ]
     },
     "metadata": {},
     "output_type": "display_data"
    }
   ],
   "source": [
    "def run_cross_validation_on_trees(X, y, tree_depths, cv=10, scoring='accuracy'):\n",
    "    cv_scores_list = []\n",
    "    cv_scores_std = []\n",
    "    cv_scores_mean = []\n",
    "    accuracy_scores = []\n",
    "    for depth in tree_depths:\n",
    "        tree_model = DecisionTreeClassifier(max_depth=depth)\n",
    "        cv_scores = cross_val_score(tree_model, X, y, cv=cv, scoring=scoring)\n",
    "        cv_scores_list.append(cv_scores)\n",
    "        cv_scores_mean.append(cv_scores.mean())\n",
    "        cv_scores_std.append(cv_scores.std())\n",
    "        accuracy_scores.append(tree_model.fit(X, y).score(X, y))\n",
    "    cv_scores_mean = np.array(cv_scores_mean)\n",
    "    cv_scores_std = np.array(cv_scores_std)\n",
    "    accuracy_scores = np.array(accuracy_scores)\n",
    "    return cv_scores_mean, cv_scores_std, accuracy_scores\n",
    "\n",
    "def plot_cross_validation_on_trees(depths, cv_scores_mean, cv_scores_std, accuracy_scores, title):\n",
    "    fig, ax = plt.subplots(1,1, figsize=(25,5))\n",
    "    ax.plot(depths, cv_scores_mean, '-o', label='mean cross-validation accuracy', alpha=0.9)\n",
    "    ax.fill_between(depths, cv_scores_mean-2*cv_scores_std, cv_scores_mean+2*cv_scores_std, alpha=0.2)\n",
    "    ylim = plt.ylim()\n",
    "    ax.plot(depths, accuracy_scores, '-*', label='train accuracy', alpha=0.9)\n",
    "    ax.set_title(title, fontsize=16)\n",
    "    ax.set_xlabel('Tree depth', fontsize=14)\n",
    "    ax.set_ylabel('Accuracy', fontsize=14)\n",
    "    ax.set_ylim(ylim)\n",
    "    ax.set_xticks(depths)\n",
    "    ax.legend()\n",
    "\n",
    "sm_tree_depths = range(1,20)\n",
    "sm_cv_scores_mean, sm_cv_scores_std, sm_accuracy_scores = run_cross_validation_on_trees(X_train, y_train, sm_tree_depths)\n",
    "\n",
    "plot_cross_validation_on_trees(sm_tree_depths, sm_cv_scores_mean, sm_cv_scores_std, sm_accuracy_scores, \n",
    "                               'Accuracy per decision tree depth on training data')\n"
   ]
  }
: 17,
   "id": "78866f9b",
   "metadata": {}
: [
    {
     "name": "stdout",
     "output_type": "stream",
     "text": [
      "              precision    recall  f1-score   support\n",
      "\n",
      "     Absence       0.89      1.00      0.94        40\n",
      "    Presence       1.00      0.82      0.90        28\n",
      "\n",
      "    accuracy                           0.93        68\n",
      "   macro avg       0.94      0.91      0.92        68\n",
      "weighted avg       0.93      0.93      0.93        68\n",
      "\n"
     ]
    }
: [
       "<Figure size 640x480 with 2 Axes>"
      ]
     },
     "metadata": {}
],
   "source": [
    "tree_model = DecisionTreeClassifier(max_depth=5,criterion='entropy')\n",
    "cv_scores = cross_val_score(tree_model, x, y, cv=10, scoring='accuracy')\n",
    "m=tree_model.fit(x, y)\n",
    "prediction=m.predict(X_test)\n",
    "cm= confusion_matrix(y_test,prediction)\n",
    "sns.heatmap(cm, annot=True,cmap='winter',linewidths=0.3, linecolor='black',annot_kws={\"size\": 20})\n",
    "print(classification_report(y_test, prediction))\n"
   ]
  },
  {
   "cell_type": "code",
   "execution_count": 18,
   "id": "582df1ae",
   "metadata": {},
   "outputs": [
    {
     "name": "stdout",
     "output_type": "stream",
     "text": [
      "Testing Accuracy for Decision Tree: 0.9264705882352942\n",
      "Testing Sensitivity for Decision Tree: 0.8888888888888888\n",
      "Testing Specificity for Decision Tree: 1.0\n",
      "Testing Precision for Decision Tree: 1.0\n"
     ]
    }
   ],
   "source": [
    "TP=cm[0][0]\n",
    "TN=cm[1][1]\n",
    "FN=cm[1][0]\n",
    "FP=cm[0][1]\n",
    "print('Testing Accuracy for Decision Tree:',(TP+TN)/(TP+TN+FN+FP))\n",
    "print('Testing Sensitivity for Decision Tree:',(TP/(TP+FN)))\n",
    "print('Testing Specificity for Decision Tree:',(TN/(TN+FP)))\n",
    "print('Testing Precision for Decision Tree:',(TP/(TP+FP)))\n"
   ]
  }
: 19,
   "id": "1839ff6f",
   "metadata": {}
: [
    {
     "name": "stdout",
     "output_type": "stream",
     "text": [
      "The depth-3 tree achieves the best mean cross-validation accuracy 82.14286 on training dataset\n"
     ]
    }
],
   "source": [
    "idx_max = sm_cv_scores_mean.argmax()\n",
    "sm_best_tree_depth = sm_tree_depths[idx_max]\n",
    "sm_best_tree_cv_score = sm_cv_scores_mean[idx_max]\n",
    "sm_best_tree_cv_score_std = sm_cv_scores_std[idx_max]\n",
    "print('The depth-{} tree achieves the best mean cross-validation accuracy {} on training dataset'.format(\n",
    "      sm_best_tree_depth, round(sm_best_tree_cv_score*100,5)))\n"
   ]
  },
  {
   "cell_type": "code",
   "execution_count": 20,
   "id": "0c82b9d9",
   "metadata": {},
   "outputs": [],
   "source": [
    "predictiontree=tree_model.predict(X_test)\n"
   ]
  }
: 21,
   "id": "b0f3e49b",
   "metadata": {}
: [
    {
     "name": "stdout",
     "output_type": "stream",
     "text": [
      "              precision    recall  f1-score   support\n",
      "\n",
      "     Absence       0.77      0.75      0.76        40\n",
      "    Presence       0.66      0.68      0.67        28\n",
      "\n",
      "    accuracy                           0.72        68\n",
      "   macro avg       0.71      0.71      0.71        68\n",
      "weighted avg       0.72      0.72      0.72        68\n",
      "\n"
     ]
    }
: [
       "<Figure size 640x480 with 2 Axes>"
      ]
     },
     "metadata": {}
],
   "source": [
    "from sklearn.tree import DecisionTreeClassifier\n",
    "\n",
    "dtclas=DecisionTreeClassifier()\n",
    "modeldt=dtclas.fit(X_train,y_train)\n",
    "predictiondt=modeldt.predict(X_test)\n",
    "cmdt= confusion_matrix(y_test,predictiondt)\n",
    "sns.heatmap(cmdt, annot=True,cmap='winter')\n",
    "print(classification_report(y_test, predictiondt))"
   ]
  },
  {
   "cell_type": "code",
   "execution_count": 22,
   "id": "91b6034b",
   "metadata": {},
   "outputs": [
    {
     "data": {
      "text/plain": [
       "GridSearchCV(cv=5, estimator=RandomForestClassifier(random_state=42),\n",
       "             param_grid={'criterion': ['gini', 'entropy'],\n",
       "                         'max_depth': [4, 5, 6, 7, 8],\n",
       "                         'max_features': ['auto', 'sqrt', 'log2'],\n",
       "                         'n_estimators': [200, 500]})"
      ]
     },
     "execution_count": 22,
     "metadata": {},
     "output_type": "execute_result"
    }
   ],
   "source": [
    "from sklearn.ensemble import RandomForestClassifier\n",
    "rfc=RandomForestClassifier(random_state=42)\n",
    "param_grid = { \n",
    "    'n_estimators': [200, 500],\n",
    "    'max_features': ['auto', 'sqrt', 'log2'],\n",
    "    'max_depth' : [4,5,6,7,8],\n",
    "    'criterion' :['gini', 'entropy']\n",
    "}\n",
    "CV_rfc = GridSearchCV(estimator=rfc, param_grid=param_grid, cv= 5)\n",
    "CV_rfc.fit(X_train, y_train)"
   ]
  }
: 24,
   "id": "16d2a466",
   "metadata": {}
: [
    {
     "data": {
      "text/plain": [
       "{'criterion': 'gini',\n",
       " 'max_depth': 5,\n",
       " 'max_features': 'auto',\n",
       " 'n_estimators': 500}"
      ]
     },
     "execution_count": 24,
     "metadata": {},
     "output_type": "execute_result"
    }
],
   "source": [
    "CV_rfc.best_params_"
   ]
  },
  {
   "cell_type": "code",
   "execution_count": 25,
   "id": "73132422",
   "metadata": {},
   "outputs": [
    {
     "name": "stderr",
     "output_type": "stream",
     "text": [
      "C:\\Users\\Basker\\AppData\\Local\\Programs\\Python\\Python37\\lib\\site-packages\\sklearn\\linear_model\\_logistic.py:818: ConvergenceWarning: lbfgs failed to converge (status=1):\n",
      "STOP: TOTAL NO. of ITERATIONS REACHED LIMIT.\n",
      "\n",
      "Increase the number of iterations (max_iter) or scale the data as shown in:\n",
      "    https://scikit-learn.org/stable/modules/preprocessing.html\n",
      "Please also refer to the documentation for alternative solver options:\n",
      "    https://scikit-learn.org/stable/modules/linear_model.html#logistic-regression\n",
      "  extra_warning_msg=_LOGISTIC_SOLVER_CONVERGENCE_MSG,\n"
     ]
    }
   ],
   "source": [
    "from sklearn.linear_model import LogisticRegression\n",
    "lr=LogisticRegression(C=1.0, class_weight='balanced', dual=False,\n",
    "                   fit_intercept=True, intercept_scaling=1, l1_ratio=None,\n",
    "                   max_iter=100, multi_class='auto', n_jobs=None, penalty='l2',\n",
    "                   random_state=1234, solver='lbfgs', tol=0.0001, verbose=0,\n",
    "                   warm_start=False)\n",
    "model1=lr.fit(X_train,y_train)"
   ]
  }
: 26,
   "id": "f167278d",
   "metadata": {}
: [
    {
     "name": "stdout",
     "output_type": "stream",
     "text": [
      "['Absence']\n",
      "100.0\n"
     ]
    }
],
   "source": [
    "from sklearn.metrics import accuracy_score\n",
    "input=(63,1,3,145,200,150,98,0,0,0,0,0,0)\n",
    "input_as_numpy=np.asarray(input)\n",
    "input_reshaped=input_as_numpy.reshape(1,-1)\n",
    "pre1=tree_model.predict(input_reshaped)\n",
    "print(pre1)\n",
    "a1 = accuracy_score(pre1,model1.predict(input_reshaped)) * 100\n",
    "print(a1)"
   ]
  },
  {
   "cell_type": "code",
   "execution_count": 27,
   "id": "ee0ae673",
   "metadata": {},
   "outputs": [
    {
     "name": "stdout",
     "output_type": "stream",
     "text": [
      "['Presence']\n",
      "100.0\n"
     ]
    }
   ],
   "source": [
    "from sklearn.metrics import accuracy_score\n",
    "input=(70,1,4,130,322,0,2,109,0,2.4,2,3,3)\n",
    "input_as_numpy=np.asarray(input)\n",
    "input_reshaped=input_as_numpy.reshape(1,-1)\n",
    "pre1=tree_model.predict(input_reshaped)\n",
    "print(pre1)\n",
    "a1 = accuracy_score(pre1,model1.predict(input_reshaped)) * 100\n",
    "print(a1)"
   ]
  }
: null,
   "id": "022672e5",
   "metadata": {}
: [],
   "source": []
  },
  {
   "cell_type": "code",
   "execution_count": null,
   "id": "13d0d374",
   "metadata": {},
   "outputs": [],
   "source": []
  }
],
 "metadata": {
  "kernelspec": {
   "display_name": "Python 3 (ipykernel)",
   "language": "python",
   "name": "python3"
  },
  "language_info": {
   "codemirror_mode": {
    "name": "ipython",
    "version": 3
   },
   "file_extension": ".py",
   "mimetype": "text/x-python",
   "name": "python",
   "nbconvert_exporter": "python",
   "pygments_lexer": "ipython3",
   "version": "3.7.8rc1"
  }
 }
: 4,
 "nbformat_minor": 5
}


 /* Font Definitions */
 @font-face
	{font-family:"Cambria Math";
	panose-1:2 4 5 3 5 4 6 3 2 4;
	mso-font-charset:0;
	mso-generic-font-family:roman;
	mso-font-pitch:variable;
	mso-font-signature:3 0 0 0 1 0;}
 /* Style Definitions */
 p.MsoNormal, li.MsoNormal, div.MsoNormal
	{mso-style-unhide:no;
	mso-style-qformat:yes;
	mso-style-parent:"";
	margin:0in;
	mso-pagination:widow-orphan;
	font-size:12.0pt;
	font-family:"Times New Roman",serif;
	mso-fareast-font-family:"Times New Roman";
	mso-fareast-theme-font:minor-fareast;}
p.msonormal0, li.msonormal0, div.msonormal0
	{mso-style-name:msonormal;
	mso-style-unhide:no;
	mso-margin-top-alt:auto;
	margin-right:0in;
	mso-margin-bottom-alt:auto;
	margin-left:0in;
	mso-pagination:widow-orphan;
	font-size:12.0pt;
	font-family:"Times New Roman",serif;
	mso-fareast-font-family:"Times New Roman";
	mso-fareast-theme-font:minor-fareast;}
.MsoChpDefault
	{mso-style-type:export-only;
	mso-default-props:yes;
	font-size:10.0pt;
	mso-ansi-font-size:10.0pt;
	mso-bidi-font-size:10.0pt;}
@page WordSection1
	{size:8.5in 11.0in;
	margin:1.0in 1.0in 1.0in 1.0in;
	mso-header-margin:.5in;
	mso-footer-margin:.5in;
	mso-paper-source:0;}
div.WordSection1
	{page:WordSection1;}
-->
</style>
<!--[if gte mso 10]>
<style>
 /* Style Definitions */
 table.MsoNormalTable
	{mso-style-name:"Table Normal";
	mso-tstyle-rowband-size:0;
	mso-tstyle-colband-size:0;
	mso-style-noshow:yes;
	mso-style-priority:99;
	mso-style-parent:"";
	mso-padding-alt:0in 5.4pt 0in 5.4pt;
	mso-para-margin:0in;
	mso-pagination:widow-orphan;
	font-size:10.0pt;
	font-family:"Times New Roman",serif;}
</style>
<![endif]--><!--[if gte mso 9]><xml>
 <o:shapedefaults v:ext="edit" spidmax="1026"/>
</xml><![endif]--><!--[if gte mso 9]><xml>
 <o:shapelayout v:ext="edit">
  <o:idmap v:ext="edit" data="1"/>
 </o:shapelayout></xml><![endif]-->
</head>

<body lang=EN-US style='tab-interval:.5in;word-wrap:break-word'>

<div class=WordSection1>

<p class=MsoNormal><span style='mso-fareast-font-family:"Times New Roman"'>{
&quot;cells&quot;: [ { &quot;cell_type&quot;: &quot;markdown&quot;,
&quot;id&quot;: &quot;f694b505&quot;, &quot;metadata&quot;: {},
&quot;source&quot;: [ &quot;# Data Model - PNT2022TMID28768\n&quot;,
&quot;\n&quot;, &quot;Team leader &#8211; Raj kumar S\n&quot;, &quot;Team
Member 1 &#8211; uday kiran B\n&quot;, &quot;Team Member 2 - Madhusudhan
u\n&quot;, &quot;Team Member 3 - Jayanth T S&quot; ] }, {
&quot;cell_type&quot;: &quot;code&quot;, &quot;execution_count&quot;: 28,
&quot;id&quot;: &quot;b62a8f93&quot;, &quot;metadata&quot;: {},
&quot;outputs&quot;: [], &quot;source&quot;: [ &quot;\n&quot;, &quot;import
numpy as np\n&quot;, &quot;import pandas as pd\n&quot;, &quot;import
matplotlib.pyplot as plt\n&quot;, &quot;import seaborn as sns\n&quot;,
&quot;import warnings\n&quot;, &quot;from sklearn.model_selection import KFold,
StratifiedKFold, cross_val_score,train_test_split\n&quot;, &quot;from sklearn
import linear_model, tree, ensemble\n&quot;, &quot;from sklearn.metrics import confusion_matrix,plot_confusion_matrix,classification_report\n&quot;,
&quot;from sklearn.model_selection import GridSearchCV&quot; ] }, {
&quot;cell_type&quot;: &quot;code&quot;, &quot;execution_count&quot;: 2,
&quot;id&quot;: &quot;2941d71d&quot;, &quot;metadata&quot;: {},
&quot;outputs&quot;: [ { &quot;data&quot;: { &quot;text/html&quot;: [ &quot;<o:p></o:p></span></p>

<div>

<p class=MsoNormal><span style='mso-fareast-font-family:"Times New Roman"'>\n&quot;,
&quot;<o:p></o:p></span></p>

</div>

</div>

</body>

</html>
